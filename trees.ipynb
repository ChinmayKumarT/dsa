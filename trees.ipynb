{
  "nbformat": 4,
  "nbformat_minor": 0,
  "metadata": {
    "colab": {
      "provenance": [],
      "authorship_tag": "ABX9TyOymekCp9ZxM7B+ykqApCVS",
      "include_colab_link": true
    },
    "kernelspec": {
      "name": "python3",
      "display_name": "Python 3"
    },
    "language_info": {
      "name": "python"
    }
  },
  "cells": [
    {
      "cell_type": "markdown",
      "metadata": {
        "id": "view-in-github",
        "colab_type": "text"
      },
      "source": [
        "<a href=\"https://colab.research.google.com/github/ChinmayKumarT/dsa/blob/main/trees.ipynb\" target=\"_parent\"><img src=\"https://colab.research.google.com/assets/colab-badge.svg\" alt=\"Open In Colab\"/></a>"
      ]
    },
    {
      "cell_type": "code",
      "execution_count": null,
      "metadata": {
        "id": "uBy6ce38Lxsf"
      },
      "outputs": [],
      "source": [
        "class BinaryNode:\n",
        "  def __init__(self,value):\n",
        "    self.data = value\n",
        "    self.left = None\n",
        "    self.right = None\n",
        "\n",
        "#genereal tree\n",
        "class trrenode:\n",
        "  def __init__(self,value):\n",
        "    self.data = value\n",
        "    self.children = []"
      ]
    },
    {
      "cell_type": "markdown",
      "source": [
        "# general tree"
      ],
      "metadata": {
        "id": "vWOBe3S-oBE_"
      }
    },
    {
      "cell_type": "code",
      "source": [
        "class TreeNode:\n",
        "  def __init__(self,value):\n",
        "    self.data = value\n",
        "    self.children = []\n",
        "\n",
        "  def add_child(self,child_Node):\n",
        "    self.children.append(child_Node)\n",
        "\n",
        "\n",
        "root = TreeNode(\"A\")\n",
        "b = TreeNode(\"B\")\n",
        "c = TreeNode(\"C\")\n",
        "D = TreeNode(\"D\")\n",
        "\n",
        "root.add_child(b)\n",
        "root.add_child(c)\n",
        "root.add_child(D)"
      ],
      "metadata": {
        "id": "-L6woYXCn3Vj"
      },
      "execution_count": null,
      "outputs": []
    },
    {
      "cell_type": "markdown",
      "source": [
        "## Binary tree"
      ],
      "metadata": {
        "id": "aYymGBKUpPUq"
      }
    },
    {
      "cell_type": "code",
      "source": [
        "class BinaryNode:\n",
        "  def __init__(self,value):\n",
        "    self.data = value\n",
        "    self.left = None\n",
        "    self.right = None\n",
        "\n",
        "def inorder(node):\n",
        "  if node:\n",
        "    inorder(node.left)\n",
        "    print(node.data , end = ' ')\n",
        "    inorder(node.right)\n",
        "\n",
        "def preorder(node):\n",
        "  if node:\n",
        "    print(node.data , end = ' ')\n",
        "    preorder(node.left)\n",
        "    preorder(node.right)\n",
        "\n",
        "\n",
        "def postorder(node):\n",
        "  if node:\n",
        "    postorder(node.left)\n",
        "    postorder(node.right)\n",
        "    print(node.data , end = ' ')\n",
        "\n",
        "root = BinaryNode(1)\n",
        "root.left = BinaryNode(2)\n",
        "root.right = BinaryNode(3)\n",
        "root.left.left = BinaryNode(4)\n",
        "root.left.right = BinaryNode(5)\n",
        "print(\"\\nInorder : \", end = ' ')\n",
        "inorder(root)\n",
        "print(\"\\npreorder : \" ,end = ' ')\n",
        "preorder(root)\n",
        "print(\"\\npostorder : \" ,end = ' ')\n",
        "postorder(root)"
      ],
      "metadata": {
        "colab": {
          "base_uri": "https://localhost:8080/"
        },
        "id": "fqt4PWHDpHGb",
        "outputId": "01f2794f-f011-456a-bbd9-06e824fa2ae2"
      },
      "execution_count": null,
      "outputs": [
        {
          "output_type": "stream",
          "name": "stdout",
          "text": [
            "\n",
            "Inorder :  4 2 5 1 3 \n",
            "preorder :  1 2 4 5 3 \n",
            "postorder :  4 5 2 3 1 "
          ]
        }
      ]
    },
    {
      "cell_type": "code",
      "source": [
        "preorder(root)"
      ],
      "metadata": {
        "colab": {
          "base_uri": "https://localhost:8080/"
        },
        "id": "6wV5MzjmsaTO",
        "outputId": "4357326d-2f09-439e-f786-2c861ad57445"
      },
      "execution_count": null,
      "outputs": [
        {
          "output_type": "stream",
          "name": "stdout",
          "text": [
            "1 2 4 5 3 "
          ]
        }
      ]
    },
    {
      "cell_type": "code",
      "source": [
        "inorder(root)"
      ],
      "metadata": {
        "colab": {
          "base_uri": "https://localhost:8080/"
        },
        "id": "inEdsaL1uZXV",
        "outputId": "34ba2170-d55b-4dd5-d23a-07f094175556"
      },
      "execution_count": null,
      "outputs": [
        {
          "output_type": "stream",
          "name": "stdout",
          "text": [
            "4 2 5 1 3 "
          ]
        }
      ]
    },
    {
      "cell_type": "markdown",
      "source": [
        "## binary search tree"
      ],
      "metadata": {
        "id": "cBeQlTKEwZZM"
      }
    },
    {
      "cell_type": "code",
      "source": [
        "class Node:\n",
        "  def __init__(self , value):\n",
        "    self.data = value\n",
        "    self.left = None\n",
        "    self.right = None\n",
        "\n",
        "class BST:\n",
        "  def __init__(self):\n",
        "    self.root = None\n",
        "\n",
        "  def insert(self,root,value):\n",
        "    if root is None:\n",
        "      return Node(value)\n",
        "    if value < root.data:\n",
        "      root.left = self.insert(root.left,value)\n",
        "    else:\n",
        "      root.right = self.insert(root.right,value)\n",
        "    return root\n",
        "\n",
        "\n",
        "  def search(self, root, value):\n",
        "        if root is None:\n",
        "            return None\n",
        "        if value == root.data:\n",
        "            return root\n",
        "        elif value < root.data:\n",
        "            return self.search(root.left, value)\n",
        "        else:\n",
        "            return self.search(root.right, value)\n",
        "\n",
        "\n",
        "  def inorder(self ,node):\n",
        "    if node:\n",
        "      self.inorder(node.left)\n",
        "      print(node.data , end = ' ')\n",
        "      self.inorder(node.right)\n",
        "\n",
        "  def preorder(self ,node):\n",
        "    if node:\n",
        "      print(node.data , end = ' ')\n",
        "      self.preorder(node.left)\n",
        "      self.preorder(node.right)\n",
        "\n",
        "\n",
        "  def postorder(self, node):\n",
        "        if node:\n",
        "            self.postorder(node.left)\n",
        "            self.postorder(node.right)\n",
        "            print(node.data, end=' ')\n",
        "\n",
        "\n",
        "my_bst = BST()\n",
        "root = None\n",
        "\n",
        "for value in [50,30,70,20,40,60,80]:\n",
        "  my_bst.root = my_bst.insert(my_bst.root,value)\n",
        "\n",
        "\n",
        "print(\"Inorder: \", end='')\n",
        "my_bst.inorder(my_bst.root)   # Output: 20 30 40 50 60 70 80\n",
        "\n",
        "print(\"\\nPreorder: \", end='')\n",
        "my_bst.preorder(my_bst.root) # Output: 50 30 20 40 70 60 80\n",
        "\n",
        "print(\"\\nPostorder: \", end='')\n",
        "my_bst.postorder(my_bst.root) # Output: 20 40 30 60 80 70 50\n",
        "\n",
        "# Search\n",
        "key = 40\n",
        "found = my_bst.search(my_bst.root, key)\n",
        "print(f\"\\nSearch {key}: {'Found' if found else 'Not Found'}\")\n",
        "\n",
        "key = 10\n",
        "found = my_bst.search(my_bst.root, key)\n",
        "print(f\"Search {key}: {'Found' if found else 'Not Found'}\")\n"
      ],
      "metadata": {
        "colab": {
          "base_uri": "https://localhost:8080/"
        },
        "id": "3E00MG4Yub0L",
        "outputId": "27509b73-51e3-4475-f92a-72404f1e4d31"
      },
      "execution_count": 4,
      "outputs": [
        {
          "output_type": "stream",
          "name": "stdout",
          "text": [
            "Inorder: 20 30 40 50 60 70 80 \n",
            "Preorder: 50 30 20 40 70 60 80 \n",
            "Postorder: 20 40 30 60 80 70 50 \n",
            "Search 40: Found\n",
            "Search 10: Not Found\n"
          ]
        }
      ]
    },
    {
      "cell_type": "code",
      "source": [],
      "metadata": {
        "id": "gs4Tcindygek"
      },
      "execution_count": null,
      "outputs": []
    }
  ]
}