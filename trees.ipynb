{
  "nbformat": 4,
  "nbformat_minor": 0,
  "metadata": {
    "colab": {
      "provenance": [],
      "authorship_tag": "ABX9TyPMh7cOrcAwUdpJU7yMeLwd",
      "include_colab_link": true
    },
    "kernelspec": {
      "name": "python3",
      "display_name": "Python 3"
    },
    "language_info": {
      "name": "python"
    }
  },
  "cells": [
    {
      "cell_type": "markdown",
      "metadata": {
        "id": "view-in-github",
        "colab_type": "text"
      },
      "source": [
        "<a href=\"https://colab.research.google.com/github/ChinmayKumarT/dsa/blob/main/trees.ipynb\" target=\"_parent\"><img src=\"https://colab.research.google.com/assets/colab-badge.svg\" alt=\"Open In Colab\"/></a>"
      ]
    },
    {
      "cell_type": "code",
      "execution_count": null,
      "metadata": {
        "id": "uBy6ce38Lxsf"
      },
      "outputs": [],
      "source": [
        "class BinaryNode:\n",
        "  def __init__(self,value):\n",
        "    self.data = value\n",
        "    self.left = None\n",
        "    self.right = None\n",
        "\n",
        "#genereal tree\n",
        "class trrenode:\n",
        "  def __init__(self,value):\n",
        "    self.data = value\n",
        "    self.children = []"
      ]
    },
    {
      "cell_type": "markdown",
      "source": [
        "# general tree"
      ],
      "metadata": {
        "id": "vWOBe3S-oBE_"
      }
    },
    {
      "cell_type": "code",
      "source": [
        "class TreeNode:\n",
        "  def __init__(self,value):\n",
        "    self.data = value\n",
        "    self.children = []\n",
        "\n",
        "  def add_child(self,child_Node):\n",
        "    self.children.append(child_Node)\n",
        "\n",
        "\n",
        "root = TreeNode(\"A\")\n",
        "b = TreeNode(\"B\")\n",
        "c = TreeNode(\"C\")\n",
        "D = TreeNode(\"D\")\n",
        "\n",
        "root.add_child(b)\n",
        "root.add_child(c)\n",
        "root.add_child(D)"
      ],
      "metadata": {
        "id": "-L6woYXCn3Vj"
      },
      "execution_count": null,
      "outputs": []
    },
    {
      "cell_type": "markdown",
      "source": [
        "## Binary tree"
      ],
      "metadata": {
        "id": "aYymGBKUpPUq"
      }
    },
    {
      "cell_type": "code",
      "source": [
        "class BinaryNode:\n",
        "  def __init__(self,value):\n",
        "    self.data = value\n",
        "    self.left = None\n",
        "    self.right = None\n",
        "\n",
        "def inorder(node):\n",
        "  if node:\n",
        "    inorder(node.left)\n",
        "    print(node.data , end = ' ')\n",
        "    inorder(node.right)\n",
        "\n",
        "def preorder(node):\n",
        "  if node:\n",
        "    print(node.data , end = ' ')\n",
        "    preorder(node.left)\n",
        "    preorder(node.right)\n",
        "\n",
        "\n",
        "def postorder(node):\n",
        "  if node:\n",
        "    postorder(node.left)\n",
        "    postorder(node.right)\n",
        "    print(node.data , end = ' ')\n",
        "\n",
        "root = BinaryNode(1)\n",
        "root.left = BinaryNode(2)\n",
        "root.right = BinaryNode(3)\n",
        "root.left.left = BinaryNode(4)\n",
        "root.left.right = BinaryNode(5)\n",
        "print(\"\\nInorder : \", end = ' ')\n",
        "inorder(root)\n",
        "print(\"\\npreorder : \" ,end = ' ')\n",
        "preorder(root)\n",
        "print(\"\\npostorder : \" ,end = ' ')\n",
        "postorder(root)"
      ],
      "metadata": {
        "colab": {
          "base_uri": "https://localhost:8080/"
        },
        "id": "fqt4PWHDpHGb",
        "outputId": "01f2794f-f011-456a-bbd9-06e824fa2ae2"
      },
      "execution_count": null,
      "outputs": [
        {
          "output_type": "stream",
          "name": "stdout",
          "text": [
            "\n",
            "Inorder :  4 2 5 1 3 \n",
            "preorder :  1 2 4 5 3 \n",
            "postorder :  4 5 2 3 1 "
          ]
        }
      ]
    },
    {
      "cell_type": "code",
      "source": [
        "preorder(root)"
      ],
      "metadata": {
        "colab": {
          "base_uri": "https://localhost:8080/"
        },
        "id": "6wV5MzjmsaTO",
        "outputId": "4357326d-2f09-439e-f786-2c861ad57445"
      },
      "execution_count": null,
      "outputs": [
        {
          "output_type": "stream",
          "name": "stdout",
          "text": [
            "1 2 4 5 3 "
          ]
        }
      ]
    },
    {
      "cell_type": "code",
      "source": [
        "inorder(root)"
      ],
      "metadata": {
        "colab": {
          "base_uri": "https://localhost:8080/"
        },
        "id": "inEdsaL1uZXV",
        "outputId": "34ba2170-d55b-4dd5-d23a-07f094175556"
      },
      "execution_count": null,
      "outputs": [
        {
          "output_type": "stream",
          "name": "stdout",
          "text": [
            "4 2 5 1 3 "
          ]
        }
      ]
    },
    {
      "cell_type": "markdown",
      "source": [
        "## binary search tree"
      ],
      "metadata": {
        "id": "cBeQlTKEwZZM"
      }
    },
    {
      "cell_type": "code",
      "source": [
        "class Node:\n",
        "  def __init__(self , value):\n",
        "    self.data = value\n",
        "    self.left = None\n",
        "    self.right = None\n",
        "\n",
        "class bst:\n",
        "  def __init__(self):\n",
        "    self.root = None\n",
        "\n",
        "  def insert(self,root,value):\n",
        "    if root is None:\n",
        "      return Node(value)\n",
        "    if value < root.data:\n",
        "      root.left = self.insert(root.left,value)\n",
        "    else:\n",
        "      root.right = self.insert(root.right,value)\n",
        "    return root\n",
        "\n",
        "\n",
        "  def search(self,root,value):\n",
        "    if root is None or root.data == value:\n",
        "      return root\n",
        "    if value < root.data:\n",
        "      if value == root.data:\n",
        "        print(\"present\")\n",
        "      return self.search(root.left,value)\n",
        "    elif value > root.data:\n",
        "      return self.search(root.right,value)\n",
        "    else :\n",
        "      print(\"not present\")\n",
        "      return None\n",
        "\n",
        "\n",
        "  def inorder(node):\n",
        "    if node:\n",
        "      inorder(node.left)\n",
        "      print(node.data , end = ' ')\n",
        "      inorder(node.right)\n",
        "\n",
        "  def preorder(node):\n",
        "    if node:\n",
        "      print(node.data , end = ' ')\n",
        "      preorder(node.left)\n",
        "      preorder(node.right)\n",
        "\n",
        "\n",
        "  def postorder(node):\n",
        "    if node:\n",
        "      postorder(node.left)\n",
        "      postorder(node.right)\n",
        "      print(node.data , end = ' ')\n",
        "\n",
        "\n",
        "my_bst = bst()\n",
        "root = None\n",
        "\n",
        "for value in [50,30,70,20,40,60,80]:\n",
        "  root = bst.insert(root,value)\n",
        "\n",
        "\n",
        "# Traversals\n",
        "print(\"Inorder: \", end='')\n",
        "bst.inorder(root)\n",
        "print(\"\\nPreorder: \", end='')\n",
        "bst.preorder(root)\n",
        "print(\"\\nPostorder: \", end='')\n",
        "# Output: 20 40 30 60 80 70 50\n",
        "\n",
        "# Output: 20 30 40 50 60 70 80\n",
        "\n",
        "# Output: 50 30 20 40 70 60 80\n",
        "\n",
        "bst.postorder(root)\n",
        "\n",
        "# Search\n",
        "key = 40\n",
        "found = bst.search(root, key)\n",
        "print(f\"\\nSearch {key}: {'Found' if found else 'Not Found' }\")\n",
        "\n",
        "key = 10\n",
        "found = bst.search(root, key)\n",
        "print(f\"\\nSearch {key}: {'Found' if found else 'Not Found' }\")"
      ],
      "metadata": {
        "colab": {
          "base_uri": "https://localhost:8080/",
          "height": 219
        },
        "id": "3E00MG4Yub0L",
        "outputId": "d7bda5cf-e2f4-42df-b1d2-f768dd28ced6"
      },
      "execution_count": null,
      "outputs": [
        {
          "output_type": "error",
          "ename": "TypeError",
          "evalue": "bst.insert() missing 1 required positional argument: 'value'",
          "traceback": [
            "\u001b[0;31m---------------------------------------------------------------------------\u001b[0m",
            "\u001b[0;31mTypeError\u001b[0m                                 Traceback (most recent call last)",
            "\u001b[0;32m/tmp/ipython-input-597876122.py\u001b[0m in \u001b[0;36m<cell line: 0>\u001b[0;34m()\u001b[0m\n\u001b[1;32m     57\u001b[0m \u001b[0;34m\u001b[0m\u001b[0m\n\u001b[1;32m     58\u001b[0m \u001b[0;32mfor\u001b[0m \u001b[0mvalue\u001b[0m \u001b[0;32min\u001b[0m \u001b[0;34m[\u001b[0m\u001b[0;36m50\u001b[0m\u001b[0;34m,\u001b[0m\u001b[0;36m30\u001b[0m\u001b[0;34m,\u001b[0m\u001b[0;36m70\u001b[0m\u001b[0;34m,\u001b[0m\u001b[0;36m20\u001b[0m\u001b[0;34m,\u001b[0m\u001b[0;36m40\u001b[0m\u001b[0;34m,\u001b[0m\u001b[0;36m60\u001b[0m\u001b[0;34m,\u001b[0m\u001b[0;36m80\u001b[0m\u001b[0;34m]\u001b[0m\u001b[0;34m:\u001b[0m\u001b[0;34m\u001b[0m\u001b[0;34m\u001b[0m\u001b[0m\n\u001b[0;32m---> 59\u001b[0;31m   \u001b[0mroot\u001b[0m \u001b[0;34m=\u001b[0m \u001b[0mbst\u001b[0m\u001b[0;34m.\u001b[0m\u001b[0minsert\u001b[0m\u001b[0;34m(\u001b[0m\u001b[0mroot\u001b[0m\u001b[0;34m,\u001b[0m\u001b[0mvalue\u001b[0m\u001b[0;34m)\u001b[0m\u001b[0;34m\u001b[0m\u001b[0;34m\u001b[0m\u001b[0m\n\u001b[0m\u001b[1;32m     60\u001b[0m \u001b[0;34m\u001b[0m\u001b[0m\n\u001b[1;32m     61\u001b[0m \u001b[0;34m\u001b[0m\u001b[0m\n",
            "\u001b[0;31mTypeError\u001b[0m: bst.insert() missing 1 required positional argument: 'value'"
          ]
        }
      ]
    },
    {
      "cell_type": "code",
      "source": [],
      "metadata": {
        "id": "gs4Tcindygek"
      },
      "execution_count": null,
      "outputs": []
    }
  ]
}