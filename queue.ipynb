{
  "nbformat": 4,
  "nbformat_minor": 0,
  "metadata": {
    "colab": {
      "provenance": [],
      "authorship_tag": "ABX9TyN0+yjLIuLbW+HY53x5nRD4",
      "include_colab_link": true
    },
    "kernelspec": {
      "name": "python3",
      "display_name": "Python 3"
    },
    "language_info": {
      "name": "python"
    }
  },
  "cells": [
    {
      "cell_type": "markdown",
      "metadata": {
        "id": "view-in-github",
        "colab_type": "text"
      },
      "source": [
        "<a href=\"https://colab.research.google.com/github/ChinmayKumarT/dsa/blob/main/queue.ipynb\" target=\"_parent\"><img src=\"https://colab.research.google.com/assets/colab-badge.svg\" alt=\"Open In Colab\"/></a>"
      ]
    },
    {
      "cell_type": "markdown",
      "source": [
        "## queue using list"
      ],
      "metadata": {
        "id": "g2WFVQdOfH_-"
      }
    },
    {
      "cell_type": "code",
      "execution_count": null,
      "metadata": {
        "id": "Y9mtQKHiZ0Fv"
      },
      "outputs": [],
      "source": [
        "class Queue:\n",
        "  def __init__(self):\n",
        "    self.queue =  []\n",
        "\n",
        "  def is_empty(self):\n",
        "    return len(self.queue) == 0\n",
        "\n",
        "  def enqueue(self,item):\n",
        "    self.queue.append(item)\n",
        "\n",
        "  def dequeue(self):\n",
        "    if self.is_empty():\n",
        "      return 'Queue is empty'\n",
        "    return self.queue.pop(0)\n",
        "\n",
        "  def size(self):\n",
        "    return len(self.queue)\n",
        "\n",
        "  def front(self):\n",
        "    return self.queue[0] if not self.is_empty() else 'Queue is empty'\n",
        "\n",
        "  def rear(self):\n",
        "    return self.queue[-1] if not self.is_empty() else 'Queue is empty'\n",
        "\n",
        "  def display(self):\n",
        "    if self.is_empty():\n",
        "      return 'Queue is empty'\n",
        "    return self.queue"
      ]
    },
    {
      "cell_type": "code",
      "source": [
        "q1 = Queue()\n",
        "q1.enqueue(1)\n",
        "q1.enqueue(2)\n",
        "q1.enqueue(3)\n",
        "q1.enqueue(4)\n",
        "q1.enqueue(5)\n",
        "q1.front()\n",
        "#q1.rear()\n",
        "#q1.size()\n",
        "#q1.display()"
      ],
      "metadata": {
        "colab": {
          "base_uri": "https://localhost:8080/"
        },
        "id": "XzKLN_-6d58H",
        "outputId": "71d3b8b0-ab2d-4dc9-8aa5-3490b3f80e51"
      },
      "execution_count": null,
      "outputs": [
        {
          "output_type": "execute_result",
          "data": {
            "text/plain": [
              "1"
            ]
          },
          "metadata": {},
          "execution_count": 9
        }
      ]
    },
    {
      "cell_type": "code",
      "source": [
        "q1.rear()"
      ],
      "metadata": {
        "colab": {
          "base_uri": "https://localhost:8080/"
        },
        "id": "yCZVcUjieapb",
        "outputId": "ca26f373-ad54-4eba-80c4-7718fb84ca10"
      },
      "execution_count": null,
      "outputs": [
        {
          "output_type": "execute_result",
          "data": {
            "text/plain": [
              "5"
            ]
          },
          "metadata": {},
          "execution_count": 10
        }
      ]
    },
    {
      "cell_type": "code",
      "source": [
        "q1.size()"
      ],
      "metadata": {
        "colab": {
          "base_uri": "https://localhost:8080/"
        },
        "id": "CSeNTrI9ew7r",
        "outputId": "dd320726-4763-4cc4-a013-57f7ac679b39"
      },
      "execution_count": null,
      "outputs": [
        {
          "output_type": "execute_result",
          "data": {
            "text/plain": [
              "5"
            ]
          },
          "metadata": {},
          "execution_count": 11
        }
      ]
    },
    {
      "cell_type": "code",
      "source": [
        "q1.display()\n"
      ],
      "metadata": {
        "colab": {
          "base_uri": "https://localhost:8080/"
        },
        "id": "t90HLqOEe0BB",
        "outputId": "fb310114-4217-4d18-e9d0-bf3f78380193"
      },
      "execution_count": null,
      "outputs": [
        {
          "output_type": "execute_result",
          "data": {
            "text/plain": [
              "[2, 3, 4, 5]"
            ]
          },
          "metadata": {},
          "execution_count": 14
        }
      ]
    },
    {
      "cell_type": "code",
      "source": [
        "q1.dequeue()"
      ],
      "metadata": {
        "colab": {
          "base_uri": "https://localhost:8080/"
        },
        "id": "9x5Vr4sGe1vd",
        "outputId": "d1116aa0-97c9-414f-8d89-987a7d8e5bf4"
      },
      "execution_count": null,
      "outputs": [
        {
          "output_type": "execute_result",
          "data": {
            "text/plain": [
              "1"
            ]
          },
          "metadata": {},
          "execution_count": 13
        }
      ]
    },
    {
      "cell_type": "markdown",
      "source": [
        "## circular queue using linkedlist"
      ],
      "metadata": {
        "id": "wjCVVlxo3cWG"
      }
    },
    {
      "cell_type": "code",
      "source": [
        "class Node:\n",
        "  def __init__(self,data):\n",
        "    self.data = data\n",
        "    self.next = None\n",
        "class circularQueue:\n",
        "  def __init__(self):\n",
        "    self.front = self.rear = None\n",
        "    self.curr_size = 0\n",
        "\n",
        "  def is_empty(self):\n",
        "    return self.front == None and self.rear == None\n",
        "\n",
        "  def get_front(self):\n",
        "    return self.front.data if self.front else None\n",
        "\n",
        "  def get_rear(self):\n",
        "    return self.rear.data if self.front else None\n",
        "\n",
        "  def get_size(self):\n",
        "    return self.curr_size\n",
        "\n",
        "  def enqueue(self,item):\n",
        "    new_node = Node(item)\n",
        "    if self.is_empty():\n",
        "      self.front = self.rear = new_node\n",
        "      self.rear.next = self.front\n",
        "    else:\n",
        "      self.rear.next = new_node\n",
        "      self.rear = new_node\n",
        "      self.rear.next = self.front\n",
        "    self.curr_size += 1\n",
        "\n",
        "  def dequeue(self):\n",
        "    if self.is_empty():\n",
        "      return 'Queue is empty'\n",
        "    if self.front == self.rear:\n",
        "      self.front = self.rear = None\n",
        "    else:\n",
        "      self.front= self.front.next\n",
        "      self.rear.next = self.front\n",
        "    self.curr_size -= 1\n",
        "\n",
        "  def display(self):\n",
        "    if self.is_empty():\n",
        "      return 'Queue is empty'\n",
        "    temp = self.front\n",
        "    while temp:\n",
        "      print(temp.data,end=' ')\n",
        "      temp = temp.next\n",
        "      if temp == self.front:\n",
        "        break\n"
      ],
      "metadata": {
        "id": "ANqjSxife6F1"
      },
      "execution_count": null,
      "outputs": []
    },
    {
      "cell_type": "code",
      "source": [
        "cq1 = circularQueue()\n",
        "cq1.enqueue(1)\n",
        "cq1.enqueue(2)\n",
        "cq1.enqueue(3)\n",
        "cq1.enqueue(4)\n",
        "cq1.enqueue(5)\n"
      ],
      "metadata": {
        "id": "xKkUoCkr8zX4"
      },
      "execution_count": null,
      "outputs": []
    },
    {
      "cell_type": "code",
      "source": [
        "cq1.display()"
      ],
      "metadata": {
        "colab": {
          "base_uri": "https://localhost:8080/"
        },
        "id": "kzlGViIo9Pex",
        "outputId": "fd58ecab-4987-4bf0-94b9-8c19e55d250c"
      },
      "execution_count": null,
      "outputs": [
        {
          "output_type": "stream",
          "name": "stdout",
          "text": [
            "1 2 3 4 5 "
          ]
        }
      ]
    },
    {
      "cell_type": "code",
      "source": [
        "cq1.dequeue()\n"
      ],
      "metadata": {
        "id": "WtV76hFf9klA"
      },
      "execution_count": null,
      "outputs": []
    },
    {
      "cell_type": "code",
      "source": [
        "cq1.display()"
      ],
      "metadata": {
        "colab": {
          "base_uri": "https://localhost:8080/"
        },
        "id": "Xsm0Kvqa9srh",
        "outputId": "44f0944c-ff97-4d52-9a95-b1565bc822e3"
      },
      "execution_count": null,
      "outputs": [
        {
          "output_type": "stream",
          "name": "stdout",
          "text": [
            "2 3 4 5 "
          ]
        }
      ]
    },
    {
      "cell_type": "code",
      "source": [
        "cq1.get_front()"
      ],
      "metadata": {
        "colab": {
          "base_uri": "https://localhost:8080/"
        },
        "id": "rX35haOQ9y4r",
        "outputId": "5f314468-2df7-44e5-d647-c423f7145284"
      },
      "execution_count": null,
      "outputs": [
        {
          "output_type": "execute_result",
          "data": {
            "text/plain": [
              "2"
            ]
          },
          "metadata": {},
          "execution_count": 52
        }
      ]
    },
    {
      "cell_type": "code",
      "source": [
        "cq1.get_rear()"
      ],
      "metadata": {
        "colab": {
          "base_uri": "https://localhost:8080/"
        },
        "id": "xY63PFFX-WZX",
        "outputId": "6a5d3513-0fbf-4139-e315-52cca823fd0b"
      },
      "execution_count": null,
      "outputs": [
        {
          "output_type": "execute_result",
          "data": {
            "text/plain": [
              "5"
            ]
          },
          "metadata": {},
          "execution_count": 53
        }
      ]
    },
    {
      "cell_type": "markdown",
      "source": [
        "queue using linked list"
      ],
      "metadata": {
        "id": "bs19ZPitDwoM"
      }
    },
    {
      "cell_type": "code",
      "source": [
        "class Node:\n",
        "  def __init__(self,data):\n",
        "    self.data = data\n",
        "    self.next = None\n",
        "class linkedlist_Queue:\n",
        "  def __init__(self):\n",
        "    self.front = self.rear = None\n",
        "    self.size = 0\n",
        "\n",
        "  def is_empty(self):\n",
        "    return self.front == None and self.rear == None\n",
        "\n",
        "  def get_front(self):\n",
        "    return self.front.data if self.front else None\n",
        "\n",
        "  def get_rear(self):\n",
        "    return self.rear.data if self.front else None\n",
        "\n",
        "  def get_size(self):\n",
        "    return self.size\n",
        "\n",
        "  def enqueue(self,item):\n",
        "    new_node = Node(item)\n",
        "    if self.is_empty():\n",
        "      self.front = self.rear = new_node\n",
        "    else:\n",
        "      self.rear.next = new_node\n",
        "      self.rear = new_node\n",
        "    self.size += 1\n",
        "\n",
        "  def dequeue(self):\n",
        "    if self.is_empty():\n",
        "      return 'Queue is empty'\n",
        "    if self.front == self.rear:\n",
        "      self.front = self.rear = None\n",
        "    else:\n",
        "      self.front= self.front.next\n",
        "    self.size -= 1\n",
        "\n",
        "  def display(self):\n",
        "    if self.is_empty():\n",
        "      return 'Queue is empty'\n",
        "    temp = self.front\n",
        "    while temp:\n",
        "      print(temp.data,end=' ')\n",
        "      temp = temp.next\n",
        "      if temp == self.front:\n",
        "        break\n"
      ],
      "metadata": {
        "id": "vlgIldkX-heu"
      },
      "execution_count": null,
      "outputs": []
    },
    {
      "cell_type": "code",
      "source": [
        "ql1 = linkedlist_Queue()\n",
        "ql1.enqueue(1)\n",
        "ql1.enqueue(2)\n",
        "ql1.enqueue(3)\n",
        "ql1.enqueue(4)\n",
        "ql1.enqueue(5)\n",
        "\n",
        "\n",
        "\n",
        "ql1.display()"
      ],
      "metadata": {
        "colab": {
          "base_uri": "https://localhost:8080/"
        },
        "id": "m2RTVpcTF6FL",
        "outputId": "190dc78e-3e6d-4115-b0f4-b061b7c25f92"
      },
      "execution_count": null,
      "outputs": [
        {
          "output_type": "stream",
          "name": "stdout",
          "text": [
            "1 2 3 4 5 "
          ]
        }
      ]
    },
    {
      "cell_type": "code",
      "source": [
        "ql1.dequeue()"
      ],
      "metadata": {
        "id": "s-aSewdbF_sv"
      },
      "execution_count": null,
      "outputs": []
    },
    {
      "cell_type": "code",
      "source": [
        "ql1.display()"
      ],
      "metadata": {
        "colab": {
          "base_uri": "https://localhost:8080/"
        },
        "id": "YtV83s1YGO31",
        "outputId": "5cfab766-203e-4dd8-c741-02753b456b36"
      },
      "execution_count": null,
      "outputs": [
        {
          "output_type": "stream",
          "name": "stdout",
          "text": [
            "2 3 4 5 "
          ]
        }
      ]
    },
    {
      "cell_type": "code",
      "source": [
        "ql1.is_empty()"
      ],
      "metadata": {
        "colab": {
          "base_uri": "https://localhost:8080/"
        },
        "id": "NSVkzr9OGWgK",
        "outputId": "3615e858-666b-4460-9f14-de211ff8bca3"
      },
      "execution_count": null,
      "outputs": [
        {
          "output_type": "execute_result",
          "data": {
            "text/plain": [
              "False"
            ]
          },
          "metadata": {},
          "execution_count": 8
        }
      ]
    },
    {
      "cell_type": "code",
      "source": [
        "ql1.get_size()"
      ],
      "metadata": {
        "colab": {
          "base_uri": "https://localhost:8080/"
        },
        "id": "VqIdpAw9GRNJ",
        "outputId": "2609e59a-bd9b-47c4-80d5-ac10cd29c8ca"
      },
      "execution_count": null,
      "outputs": [
        {
          "output_type": "execute_result",
          "data": {
            "text/plain": [
              "4"
            ]
          },
          "metadata": {},
          "execution_count": 9
        }
      ]
    },
    {
      "cell_type": "code",
      "source": [
        "ql1.get_rear()"
      ],
      "metadata": {
        "colab": {
          "base_uri": "https://localhost:8080/"
        },
        "id": "LOpWGxuNGcc-",
        "outputId": "96b4518d-ca06-464d-e2ce-7eb707a9e390"
      },
      "execution_count": null,
      "outputs": [
        {
          "output_type": "execute_result",
          "data": {
            "text/plain": [
              "5"
            ]
          },
          "metadata": {},
          "execution_count": 10
        }
      ]
    },
    {
      "cell_type": "code",
      "source": [
        "ql1.get_front()"
      ],
      "metadata": {
        "colab": {
          "base_uri": "https://localhost:8080/"
        },
        "id": "4b3WtPa1GfZ7",
        "outputId": "4f09f1d9-18ae-408c-85f7-b41c6a6c9dcc"
      },
      "execution_count": null,
      "outputs": [
        {
          "output_type": "execute_result",
          "data": {
            "text/plain": [
              "2"
            ]
          },
          "metadata": {},
          "execution_count": 12
        }
      ]
    },
    {
      "cell_type": "code",
      "source": [],
      "metadata": {
        "id": "TdgGUzNwGhvy"
      },
      "execution_count": null,
      "outputs": []
    }
  ]
}