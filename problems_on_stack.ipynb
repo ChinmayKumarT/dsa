{
  "nbformat": 4,
  "nbformat_minor": 0,
  "metadata": {
    "colab": {
      "provenance": [],
      "authorship_tag": "ABX9TyN0qp7H5hDeX/H1eVSSh0s8",
      "include_colab_link": true
    },
    "kernelspec": {
      "name": "python3",
      "display_name": "Python 3"
    },
    "language_info": {
      "name": "python"
    }
  },
  "cells": [
    {
      "cell_type": "markdown",
      "metadata": {
        "id": "view-in-github",
        "colab_type": "text"
      },
      "source": [
        "<a href=\"https://colab.research.google.com/github/ChinmayKumarT/dsa/blob/main/problems_on_stack.ipynb\" target=\"_parent\"><img src=\"https://colab.research.google.com/assets/colab-badge.svg\" alt=\"Open In Colab\"/></a>"
      ]
    },
    {
      "cell_type": "code",
      "execution_count": null,
      "metadata": {
        "id": "FwjQ6VKZ4BaS",
        "colab": {
          "base_uri": "https://localhost:8080/"
        },
        "outputId": "8a68aa29-448e-4e9c-b9aa-599cb9af2acf"
      },
      "outputs": [
        {
          "output_type": "stream",
          "name": "stdout",
          "text": [
            "23\n"
          ]
        }
      ],
      "source": [
        "\n",
        "class Stack:\n",
        "  def __init__(self,max_capacity):\n",
        "    self.stack = []\n",
        "    self.max_capacity = max_capacity\n",
        "\n",
        "\n",
        "  def is_full(self):\n",
        "    return len(self.stack) >= self.max_capacity\n",
        "\n",
        "  def is_empty(self):\n",
        "    return len(self.stack)==0\n",
        "\n",
        "  def push(self,item):\n",
        "    if self.is_full():\n",
        "      print(\"stack is full\")\n",
        "      return\n",
        "    self.stack.append(item)\n",
        "\n",
        "\n",
        "  def pop(self):\n",
        "    if self.is_empty():\n",
        "      print(\"stack is empty\")\n",
        "      return\n",
        "    return self.stack.pop()\n",
        "\n",
        "\n",
        "\n",
        "  def peek(self):\n",
        "    if not self.is_empty():\n",
        "      return self.stack[-1]\n",
        "    return None\n",
        "\n",
        "\n",
        "  def length(self):\n",
        "    return len(self.stack)\n",
        "\n",
        "\n",
        "def precedence(op):\n",
        "  precedence_order = { '+' : 1 , '-' : 1 , '*' :2 , '/' : 2 , '^': 3}\n",
        "  return precedence_order.get(op,0)\n",
        "\n",
        "def is_operator(c):\n",
        "  return c in { '+' , '-' , '*' , '/' ,'^'}\n",
        "\n",
        "\n",
        "\n",
        "def infix_to_postfix(expresition):\n",
        "  stack =Stack(30)\n",
        "  output = []\n",
        "\n",
        "  for char in expresition:\n",
        "    if char.isalnum():\n",
        "      output.append(char)\n",
        "    elif char == '(':\n",
        "      stack.push(char)\n",
        "    elif char == ')':\n",
        "      while not stack.is_empty() and stack.peek() != '(' :\n",
        "        output.append(stack.pop())\n",
        "      stack.pop()\n",
        "    elif is_operator(char):\n",
        "      while not stack.is_empty() and precedence(stack.peek()) >= precedence(char):\n",
        "        output.append(stack.pop())\n",
        "      stack.push(char)\n",
        "\n",
        "  while not stack.is_empty():\n",
        "    output.append(stack.pop())\n",
        "\n",
        "  return ''.join(output)\n",
        "\n",
        "def postfix_evaluation(evaluate_postfix):\n",
        "  stack =Stack(30)\n",
        "  for char in evaluate_postfix:\n",
        "    if char.isdigit():\n",
        "      stack.push(int(char))\n",
        "    elif is_operator(char):\n",
        "      operand2 = stack.pop()\n",
        "      operand1 = stack.pop()\n",
        "      if char == '+':\n",
        "        result = operand1 + operand2\n",
        "      elif char == '-':\n",
        "        result = operand1 - operand2\n",
        "      elif char == '*':\n",
        "        result = operand1 * operand2\n",
        "      elif char == '/':\n",
        "        result = operand1 / operand2\n",
        "      elif char == '^':\n",
        "        result = operand1 ** operand2\n",
        "      stack.push(result)\n",
        "  return stack.pop()\n",
        "\n",
        "\n",
        "infix = \"((A*B)+(C*D))\"\n",
        "post = infix_to_postfix(infix)\n",
        "evalu = \"3523^4-*+\"\n",
        "\n",
        "posrt1 = postfix_evaluation(evalu)\n",
        "\n",
        "print(posrt1)\n",
        "\n",
        "\n",
        "\n"
      ]
    },
    {
      "cell_type": "code",
      "source": [
        "class Stack:\n",
        "  def __init__(self,max_capacity):\n",
        "    self.stack = []\n",
        "    self.max_capacity = max_capacity\n",
        "\n",
        "  def push(self,item):\n",
        "    self.stack.append(item)\n",
        "\n",
        "  def pop(self):\n",
        "    return self.stack.pop()\n",
        "\n",
        "def backspace(exe):\n",
        "  stack = Stack(30)\n",
        "  for char in exe:\n",
        "      if char == '#':\n",
        "        stack.pop()\n",
        "      else:\n",
        "        stack.push(char)\n",
        "  return \"\".join(stack.stack)\n",
        "\n",
        "\n",
        "\n",
        "\n",
        "input = 'abcakjhdlf###d##c'\n",
        "\n",
        "print(backspace(input))\n"
      ],
      "metadata": {
        "colab": {
          "base_uri": "https://localhost:8080/"
        },
        "id": "e83ukfzO8-bi",
        "outputId": "df4a404a-7ee2-4b79-dd1d-919f10e51e7e"
      },
      "execution_count": null,
      "outputs": [
        {
          "output_type": "stream",
          "name": "stdout",
          "text": [
            "abcakjc\n"
          ]
        }
      ]
    },
    {
      "cell_type": "code",
      "source": [],
      "metadata": {
        "id": "EGG0IX5Kgr_F"
      },
      "execution_count": null,
      "outputs": []
    }
  ]
}