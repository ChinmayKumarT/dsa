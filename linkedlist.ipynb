{
  "nbformat": 4,
  "nbformat_minor": 0,
  "metadata": {
    "colab": {
      "provenance": [],
      "authorship_tag": "ABX9TyNRhOwKROJJZaNm3dCBB9nV",
      "include_colab_link": true
    },
    "kernelspec": {
      "name": "python3",
      "display_name": "Python 3"
    },
    "language_info": {
      "name": "python"
    }
  },
  "cells": [
    {
      "cell_type": "markdown",
      "metadata": {
        "id": "view-in-github",
        "colab_type": "text"
      },
      "source": [
        "<a href=\"https://colab.research.google.com/github/ChinmayKumarT/dsa/blob/main/linkedlist.ipynb\" target=\"_parent\"><img src=\"https://colab.research.google.com/assets/colab-badge.svg\" alt=\"Open In Colab\"/></a>"
      ]
    },
    {
      "cell_type": "code",
      "execution_count": null,
      "metadata": {
        "colab": {
          "base_uri": "https://localhost:8080/"
        },
        "id": "xot50M9z7ZNG",
        "outputId": "e50bc211-ff32-4e65-c9fe-629004bbd281"
      },
      "outputs": [
        {
          "output_type": "stream",
          "name": "stdout",
          "text": [
            "30 -->20 -->10 -->40 -->None\n",
            "True\n",
            "30 -->20 -->25 -->30 -->10 -->40 -->None\n"
          ]
        }
      ],
      "source": [
        "class Node:\n",
        "  def __init__(self,data):\n",
        "    self.data = data\n",
        "    self.next = None\n",
        "\n",
        "class linkedlist:\n",
        "  def __init__(self):\n",
        "    self.head = None\n",
        "\n",
        "  def insert_at_begining(self,data):\n",
        "    new_node = Node(data)\n",
        "    new_node.next = self.head\n",
        "    self.head = new_node\n",
        "\n",
        "  def insert_at_end(self,data):\n",
        "    new_node = Node(data)\n",
        "    #case 1\n",
        "    #while list is empty\n",
        "    if self.head is None:\n",
        "      self.head = new_node\n",
        "      return\n",
        "    temp = self.head\n",
        "    #case 2\n",
        "    #while list is not empty\n",
        "    #go to the last node\n",
        "    while temp.next:\n",
        "      temp = temp.next\n",
        "    temp.next = new_node\n",
        "\n",
        "  def insert_after(self , prev_data , data ):\n",
        "    #temp is temporary copy of original ll\n",
        "    temp =self.head\n",
        "    #case 1\n",
        "    #check the value if present or not\n",
        "    while temp and temp.data != prev_data:\n",
        "      temp =temp.next\n",
        "    #case 2\n",
        "    #value not present\n",
        "    if not temp :\n",
        "      print(\"previos data not found\")\n",
        "      return\n",
        "\n",
        "    new_node = Node(data)\n",
        "    new_node.next = temp.next\n",
        "    temp.next = new_node\n",
        "\n",
        "  def print(self):\n",
        "    temp = self.head\n",
        "    while temp:\n",
        "      print(temp.data , end = ' -->')\n",
        "      temp = temp.next\n",
        "    print(\"None\")\n",
        "\n",
        "  def search(self , key):\n",
        "    temp = self.head\n",
        "    while temp :\n",
        "      if temp.data == key :\n",
        "        return True\n",
        "      temp = temp.next\n",
        "    return False\n",
        "\n",
        "\n",
        "  def dele(self , value ):\n",
        "      temp = self.head\n",
        "      #if the key is head\n",
        "      if temp and temp.data == value:\n",
        "        self.head = temp.next\n",
        "        temp = None\n",
        "        return\n",
        "        prev = None\n",
        "      #finding the value in list\n",
        "      while temp and temp.data != value:\n",
        "        prev = temp\n",
        "        temp = temp.next\n",
        "      # value not found\n",
        "      if not temp :\n",
        "        print(\"value not found\")\n",
        "        return\n",
        "      prev.next = temp.next\n",
        "      temp = None\n",
        "\n",
        "\n",
        "l1 = linkedlist()\n",
        "l1.insert_at_begining(10)\n",
        "l1.insert_at_begining(20)\n",
        "l1.insert_at_begining(30)\n",
        "l1.insert_at_end(40)\n",
        "l1.print()\n",
        "l1.search(20)\n",
        "print(l1.search(20))\n",
        "l1.insert_after(20,30)\n",
        "l1.insert_after(20,25)\n",
        "l1.print()\n",
        "l1.dele(10)\n"
      ]
    },
    {
      "cell_type": "code",
      "source": [],
      "metadata": {
        "id": "BtP4_4IQEpRX"
      },
      "execution_count": null,
      "outputs": []
    }
  ]
}