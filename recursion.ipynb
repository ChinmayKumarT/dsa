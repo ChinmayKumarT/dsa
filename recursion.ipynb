{
  "nbformat": 4,
  "nbformat_minor": 0,
  "metadata": {
    "colab": {
      "provenance": [],
      "authorship_tag": "ABX9TyMxnGUug3ebMcezQMLfvTOn",
      "include_colab_link": true
    },
    "kernelspec": {
      "name": "python3",
      "display_name": "Python 3"
    },
    "language_info": {
      "name": "python"
    }
  },
  "cells": [
    {
      "cell_type": "markdown",
      "metadata": {
        "id": "view-in-github",
        "colab_type": "text"
      },
      "source": [
        "<a href=\"https://colab.research.google.com/github/ChinmayKumarT/dsa/blob/main/recursion.ipynb\" target=\"_parent\"><img src=\"https://colab.research.google.com/assets/colab-badge.svg\" alt=\"Open In Colab\"/></a>"
      ]
    },
    {
      "cell_type": "code",
      "execution_count": null,
      "metadata": {
        "colab": {
          "base_uri": "https://localhost:8080/"
        },
        "id": "vlLm8ydGB3Ya",
        "outputId": "fe7eb902-5ed8-44fb-927b-4da4edea612b"
      },
      "outputs": [
        {
          "output_type": "stream",
          "name": "stdout",
          "text": [
            "Hello\n",
            "Hello\n",
            "Hello\n",
            "Hello\n",
            "Hello\n"
          ]
        }
      ],
      "source": [
        "def say_hello(n):\n",
        "  if n == 0:\n",
        "    return\n",
        "  print(\"Hello\")\n",
        "  say_hello(n-1) # Recursive Case\n",
        "\n",
        "say_hello(5)"
      ]
    },
    {
      "cell_type": "markdown",
      "source": [
        "# factorail"
      ],
      "metadata": {
        "id": "AUb4OR2SClSJ"
      }
    },
    {
      "cell_type": "code",
      "source": [
        "def factorial(n):\n",
        "  if n == 0 :\n",
        "    return 1\n",
        "\n",
        "  return n * factorial(n-1)\n",
        "\n",
        "factorial(8)"
      ],
      "metadata": {
        "colab": {
          "base_uri": "https://localhost:8080/"
        },
        "id": "O3UVtE-ACExW",
        "outputId": "83bfa614-383d-4675-c23c-861e5ce2038a"
      },
      "execution_count": null,
      "outputs": [
        {
          "output_type": "execute_result",
          "data": {
            "text/plain": [
              "40320"
            ]
          },
          "metadata": {},
          "execution_count": 7
        }
      ]
    },
    {
      "cell_type": "markdown",
      "source": [
        "# fibnacci"
      ],
      "metadata": {
        "id": "uNuI7vIkD6E4"
      }
    },
    {
      "cell_type": "code",
      "source": [
        "def fib(n):\n",
        "  if n<=1:\n",
        "    return n\n",
        "  return fib(n-1) + fib(n-2)\n",
        "\n",
        "fib(10)"
      ],
      "metadata": {
        "colab": {
          "base_uri": "https://localhost:8080/"
        },
        "id": "mHlQAF5AC4T6",
        "outputId": "dd2c865c-4a6f-4055-a523-709ae05efe11"
      },
      "execution_count": null,
      "outputs": [
        {
          "output_type": "execute_result",
          "data": {
            "text/plain": [
              "55"
            ]
          },
          "metadata": {},
          "execution_count": 15
        }
      ]
    },
    {
      "cell_type": "markdown",
      "source": [
        "# sum of array"
      ],
      "metadata": {
        "id": "kHW383sSJ47Q"
      }
    },
    {
      "cell_type": "code",
      "source": [
        "def sum_of_array(arr):\n",
        "  if not arr:\n",
        "    return 0\n",
        "  return  arr[0] + sum_of_array(arr[1:])\n",
        "\n",
        "\n",
        "sum_of_array([1,2,3,4,5,6,7,8,9])"
      ],
      "metadata": {
        "colab": {
          "base_uri": "https://localhost:8080/"
        },
        "id": "Xt1_yyHqELeQ",
        "outputId": "f47a2776-71ee-4013-bd98-2a17f187094c"
      },
      "execution_count": null,
      "outputs": [
        {
          "output_type": "execute_result",
          "data": {
            "text/plain": [
              "45"
            ]
          },
          "metadata": {},
          "execution_count": 31
        }
      ]
    },
    {
      "cell_type": "code",
      "source": [],
      "metadata": {
        "id": "nUBdMvjpHsdw"
      },
      "execution_count": null,
      "outputs": []
    }
  ]
}