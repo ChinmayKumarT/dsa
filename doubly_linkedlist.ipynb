{
  "nbformat": 4,
  "nbformat_minor": 0,
  "metadata": {
    "colab": {
      "provenance": [],
      "authorship_tag": "ABX9TyMBCMi4/lR6KeFcEhq5y2Ee",
      "include_colab_link": true
    },
    "kernelspec": {
      "name": "python3",
      "display_name": "Python 3"
    },
    "language_info": {
      "name": "python"
    }
  },
  "cells": [
    {
      "cell_type": "markdown",
      "metadata": {
        "id": "view-in-github",
        "colab_type": "text"
      },
      "source": [
        "<a href=\"https://colab.research.google.com/github/ChinmayKumarT/dsa/blob/main/doubly_linkedlist.ipynb\" target=\"_parent\"><img src=\"https://colab.research.google.com/assets/colab-badge.svg\" alt=\"Open In Colab\"/></a>"
      ]
    },
    {
      "cell_type": "code",
      "execution_count": null,
      "metadata": {
        "colab": {
          "base_uri": "https://localhost:8080/"
        },
        "id": "sgggoXh72Vp5",
        "outputId": "1a662424-2a9c-432c-fc0b-cb37fe962e1f"
      },
      "outputs": [
        {
          "output_type": "stream",
          "name": "stdout",
          "text": [
            "10 -->20 -->30 -->40 -->None\n",
            "40 -->30 -->20 -->10 -->None\n",
            "10 -->30 -->40 -->None\n"
          ]
        },
        {
          "output_type": "execute_result",
          "data": {
            "text/plain": [
              "True"
            ]
          },
          "metadata": {},
          "execution_count": 19
        }
      ],
      "source": [
        "class node :\n",
        "  def __init__(self,data):\n",
        "    self.data = data\n",
        "    self.next = None\n",
        "    self.prev = None\n",
        "\n",
        "class doubly_linkedlist:\n",
        "  def __init__(self):\n",
        "    self.head = None\n",
        "\n",
        "  def insert_at_begining(self,data):\n",
        "    new_node = node(data)\n",
        "    new_node.next = self.head\n",
        "\n",
        "    if self.head :\n",
        "      self.head.prev = new_node\n",
        "    self.head = new_node\n",
        "\n",
        "  def insert_at_end(self,data):\n",
        "    new_node = node(data)\n",
        "\n",
        "    if not self.head :\n",
        "      self.head = new_node\n",
        "      return\n",
        "\n",
        "    temp = self.head\n",
        "\n",
        "    while temp.next:\n",
        "      temp = temp.next\n",
        "    temp.next = new_node\n",
        "    new_node.prev = temp\n",
        "\n",
        "    def insert_after(self , prev_data , data ):\n",
        "    #temp is temporary copy of original ll\n",
        "      temp =self.head\n",
        "    #case 1\n",
        "    #check the value if present or not\n",
        "      while temp and temp.data != prev_data:\n",
        "        temp =temp.next\n",
        "\n",
        "    #case 2\n",
        "    #value not present\n",
        "      if not temp :\n",
        "       print(\"previos data not found\")\n",
        "       return\n",
        "\n",
        "\n",
        "      new_node = node(data)\n",
        "      new_node.next = temp.next\n",
        "      new_node.prev = temp\n",
        "      if temp.next:\n",
        "        temp.next.prev = new_node\n",
        "      temp.next = new_node\n",
        "\n",
        "\n",
        "  def print_forward(self):\n",
        "      temp = self.head\n",
        "      while temp:\n",
        "        print(temp.data , end = ' -->')\n",
        "        temp = temp.next\n",
        "      print(\"None\")\n",
        "\n",
        "\n",
        "  def print_backward(self):\n",
        "      temp = self.head\n",
        "      while temp.next:\n",
        "        temp = temp.next\n",
        "      while temp:\n",
        "        print(temp.data , end = ' -->')\n",
        "        temp = temp.prev\n",
        "      print(\"None\")\n",
        "\n",
        "\n",
        "  def dele(self , value ):\n",
        "      temp = self.head\n",
        "      #if the key is head\n",
        "      if temp and temp.data == value:\n",
        "        self.head = temp.next\n",
        "        if self.head:\n",
        "          self.head.prev = None\n",
        "        temp = None\n",
        "      while temp and temp.data != value :\n",
        "        temp = temp.next\n",
        "      if not temp :\n",
        "        print(\"key not fond\")\n",
        "        return\n",
        "      if temp.next:\n",
        "        temp.next.prev = temp.prev\n",
        "      temp.prev.next = temp.next\n",
        "      temp = None\n",
        "\n",
        "\n",
        "  def search(self , key):\n",
        "    temp = self.head\n",
        "    while temp :\n",
        "      if temp.data == key :\n",
        "        return True\n",
        "      temp = temp.next\n",
        "    return False\n",
        "\n",
        "\n",
        "\n",
        "\n",
        "\n",
        "\n",
        "\n",
        "d1= doubly_linkedlist()\n",
        "d1.insert_at_begining(40)\n",
        "d1.insert_at_begining(30)\n",
        "d1.insert_at_begining(20)\n",
        "d1.insert_at_begining(10)\n",
        "d1.print_forward()\n",
        "d1.print_backward()\n",
        "d1.dele(20)\n",
        "d1.print_forward()\n",
        "d1.search(10)"
      ]
    },
    {
      "cell_type": "code",
      "source": [
        "\n"
      ],
      "metadata": {
        "id": "1KN1NpGO2qhV"
      },
      "execution_count": null,
      "outputs": []
    }
  ]
}