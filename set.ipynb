{
  "nbformat": 4,
  "nbformat_minor": 0,
  "metadata": {
    "colab": {
      "provenance": [],
      "authorship_tag": "ABX9TyN1WJAvKx93LTpPdwtFMF0t",
      "include_colab_link": true
    },
    "kernelspec": {
      "name": "python3",
      "display_name": "Python 3"
    },
    "language_info": {
      "name": "python"
    }
  },
  "cells": [
    {
      "cell_type": "markdown",
      "metadata": {
        "id": "view-in-github",
        "colab_type": "text"
      },
      "source": [
        "<a href=\"https://colab.research.google.com/github/ChinmayKumarT/dsa/blob/main/set.ipynb\" target=\"_parent\"><img src=\"https://colab.research.google.com/assets/colab-badge.svg\" alt=\"Open In Colab\"/></a>"
      ]
    },
    {
      "cell_type": "code",
      "execution_count": null,
      "metadata": {
        "colab": {
          "base_uri": "https://localhost:8080/"
        },
        "id": "0-SpWNd5_Su_",
        "outputId": "ad87d528-9ce8-4414-f078-9d9379372b30"
      },
      "outputs": [
        {
          "output_type": "stream",
          "name": "stdout",
          "text": [
            "{'berlin', 'amsterdam'}\n"
          ]
        }
      ],
      "source": [
        "alice = { \"paris\",\"berlin\", \"rome\" , \"amsterdam\"}\n",
        "bob  = { \"berlin\", \"amsterdam\" , \"london \" , \"medrid\"}\n",
        "\n",
        "cites = alice.intersection(bob)\n",
        "print(cites)"
      ]
    },
    {
      "cell_type": "code",
      "source": [
        "alice = { \"paris\",\"berlin\", \"rome\" , \"amsterdam\"}\n",
        "bob  = { \"berlin\", \"amsterdam\" , \"london \" , \"medrid\"}\n",
        "\n",
        "cites = alice.union(bob)\n",
        "print(cites)"
      ],
      "metadata": {
        "colab": {
          "base_uri": "https://localhost:8080/"
        },
        "id": "FPYmWNqJDeQX",
        "outputId": "6941b6e7-9036-40d7-82bb-d9bd1e1a9e2a"
      },
      "execution_count": null,
      "outputs": [
        {
          "output_type": "stream",
          "name": "stdout",
          "text": [
            "{'rome', 'medrid', 'amsterdam', 'paris', 'london ', 'berlin'}\n"
          ]
        }
      ]
    },
    {
      "cell_type": "code",
      "source": [
        "alice = { \"paris\",\"berlin\", \"rome\" , \"amsterdam\"}\n",
        "bob  = { \"berlin\", \"amsterdam\" , \"london \" , \"medrid\"}\n",
        "\n",
        "cites = alice.difference(bob)\n",
        "print(cites)"
      ],
      "metadata": {
        "colab": {
          "base_uri": "https://localhost:8080/"
        },
        "id": "mJeY2YkXMMgv",
        "outputId": "7e147362-2761-4ea2-b6b6-2a7cc17543c5"
      },
      "execution_count": null,
      "outputs": [
        {
          "output_type": "stream",
          "name": "stdout",
          "text": [
            "{'paris', 'rome'}\n"
          ]
        }
      ]
    },
    {
      "cell_type": "code",
      "source": [
        "alice = { \"paris\",\"berlin\", \"rome\" , \"amsterdam\"}\n",
        "bob  = { \"berlin\", \"amsterdam\" , \"london \" , \"medrid\"}\n",
        "\n",
        "cites = alice.symmetric_difference(bob)\n",
        "print(cites)"
      ],
      "metadata": {
        "colab": {
          "base_uri": "https://localhost:8080/"
        },
        "id": "hdz_rjADMu6B",
        "outputId": "83d0ee15-8935-4b30-eae8-5bad140ae642"
      },
      "execution_count": null,
      "outputs": [
        {
          "output_type": "stream",
          "name": "stdout",
          "text": [
            "{'london ', 'medrid', 'rome', 'paris'}\n"
          ]
        }
      ]
    },
    {
      "cell_type": "code",
      "source": [
        "set1 = set(map(int,input().split()))\n",
        "set2 = set(map(int,input().split()))\n",
        "print(set1.difference(set2))\n"
      ],
      "metadata": {
        "colab": {
          "base_uri": "https://localhost:8080/"
        },
        "id": "n43DuxfwNSgJ",
        "outputId": "518a19e6-748b-4cea-8374-bc9d224c8ced"
      },
      "execution_count": null,
      "outputs": [
        {
          "output_type": "stream",
          "name": "stdout",
          "text": [
            "1 2 3 4 5 6\n",
            "1 3 4 5 6\n",
            "{2}\n"
          ]
        }
      ]
    },
    {
      "cell_type": "code",
      "source": [
        "\n",
        "lowercase = set(\"abcdefghijklmnopqrstuvwxyz\")\n",
        "uppercase = set(\"ABCDEFGHIJKLMNOPQRSTUVWXYZ\")\n",
        "digits = set(\"0123456789\")\n",
        "symbols = set(\"!@#$%^&*()\")\n",
        "\n",
        "password = input(\"Enter a password: \")\n",
        "my_set = set(password)\n",
        "print(type(password))\n",
        "\n",
        "num = 0\n",
        "\n",
        "\n",
        "if my_set.intersection(lowercase) :\n",
        "          num += 1\n",
        "if my_set.intersection(uppercase) :\n",
        "        num += 1\n",
        "if my_set.intersection(digits) :\n",
        "        num += 1\n",
        "if my_set.intersection(symbols):\n",
        "        num += 1\n",
        "\n",
        "\n",
        "if num >= 3:\n",
        "  print(\"valid pass\")\n",
        "else:\n",
        "  print(\"invalid pass\")"
      ],
      "metadata": {
        "colab": {
          "base_uri": "https://localhost:8080/"
        },
        "id": "vlycf0zlOBiG",
        "outputId": "716a2d8a-130e-486b-b9b0-3575615c83bc"
      },
      "execution_count": null,
      "outputs": [
        {
          "output_type": "stream",
          "name": "stdout",
          "text": [
            "Enter a password: ASDHJasdj!!3\n",
            "<class 'str'>\n",
            "valid pass\n"
          ]
        }
      ]
    },
    {
      "cell_type": "code",
      "source": [
        "def  is_pass_valid(password):\n",
        "  lowercase = set(\"abcdefghijklmnopqrstuvwxyz\")\n",
        "  uppercase = set(\"ABCDEFGHIJKLMNOPQRSTUVWXYZ\")\n",
        "  digits = set(\"0123456789\")\n",
        "  symbols = set(\"!@#$%^&*()\")\n",
        "\n",
        "\n",
        "  my_set = set(password)\n",
        "\n",
        "  num = 0\n",
        "\n",
        "\n",
        "  if my_set.intersection(lowercase) :\n",
        "            num += 1\n",
        "  if my_set.intersection(uppercase) :\n",
        "          num += 1\n",
        "  if my_set.intersection(digits) :\n",
        "          num += 1\n",
        "  if my_set.intersection(symbols):\n",
        "          num += 1\n",
        "  return num >= 3\n",
        "\n",
        "password = input(\"Enter a password: \")\n",
        "if is_pass_valid(password):\n",
        "  print(\"valid pass\")\n",
        "else:\n",
        "  print(\"invalid pass\")\n"
      ],
      "metadata": {
        "colab": {
          "base_uri": "https://localhost:8080/"
        },
        "id": "rAjQKnXDf2gg",
        "outputId": "dbc4b959-70b9-421d-99d9-02247fcb1216"
      },
      "execution_count": null,
      "outputs": [
        {
          "output_type": "stream",
          "name": "stdout",
          "text": [
            "Enter a password: bgsit@!@122J\n",
            "valid pass\n"
          ]
        }
      ]
    },
    {
      "cell_type": "code",
      "source": [
        "#numbers= input(\"enter the number\")\n",
        "n = int(input(\"enter the number\"))\n",
        "squares_dict = {x : x ** 2 for x in range(1,n+1) }\n",
        "print(squares_dict)\n"
      ],
      "metadata": {
        "colab": {
          "base_uri": "https://localhost:8080/"
        },
        "id": "xN-zgeUquXKG",
        "outputId": "8772dfb7-2361-486a-bc87-72ca056502ea"
      },
      "execution_count": null,
      "outputs": [
        {
          "output_type": "stream",
          "name": "stdout",
          "text": [
            "enter the number3\n",
            "{1: 1, 2: 4, 3: 9}\n"
          ]
        }
      ]
    },
    {
      "cell_type": "code",
      "source": [],
      "metadata": {
        "id": "z5MjizQwzhl4"
      },
      "execution_count": null,
      "outputs": []
    }
  ]
}