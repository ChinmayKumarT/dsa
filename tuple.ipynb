{
  "nbformat": 4,
  "nbformat_minor": 0,
  "metadata": {
    "colab": {
      "provenance": [],
      "authorship_tag": "ABX9TyNiPNMIBs5yZ1mXkcKu8eWo",
      "include_colab_link": true
    },
    "kernelspec": {
      "name": "python3",
      "display_name": "Python 3"
    },
    "language_info": {
      "name": "python"
    }
  },
  "cells": [
    {
      "cell_type": "markdown",
      "metadata": {
        "id": "view-in-github",
        "colab_type": "text"
      },
      "source": [
        "<a href=\"https://colab.research.google.com/github/ChinmayKumarT/dsa/blob/main/tuple.ipynb\" target=\"_parent\"><img src=\"https://colab.research.google.com/assets/colab-badge.svg\" alt=\"Open In Colab\"/></a>"
      ]
    },
    {
      "cell_type": "markdown",
      "source": [
        "identical elements"
      ],
      "metadata": {
        "id": "UpOShpwCz-J8"
      }
    },
    {
      "cell_type": "code",
      "source": [
        "a = tuple(map(int, input().split()))\n",
        "b = tuple(map(int, input().split()))\n",
        "res = []\n",
        "for i in a :\n",
        "  if i in b and i not in res:\n",
        "    res.append(i)\n",
        "result = tuple(res)\n",
        "print(result)\n",
        "print(type(result))"
      ],
      "metadata": {
        "colab": {
          "base_uri": "https://localhost:8080/"
        },
        "id": "LMXeYc0Lv4bX",
        "outputId": "5a3a9386-11ca-46ba-e0fc-1f7fe7d3e065"
      },
      "execution_count": null,
      "outputs": [
        {
          "output_type": "stream",
          "name": "stdout",
          "text": [
            "1 2 3 4 5 5\n",
            "2 3 4 5 6 6 7\n",
            "(2, 3, 4, 5)\n",
            "<class 'tuple'>\n"
          ]
        }
      ]
    },
    {
      "cell_type": "markdown",
      "source": [
        "sum by index"
      ],
      "metadata": {
        "id": "bqFo5Ipb0CH7"
      }
    },
    {
      "cell_type": "code",
      "source": [
        "a = tuple(map(int, input().split()))\n",
        "b = tuple(map(int, input().split()))\n",
        "sum = []\n",
        "for i in range(len(a)) :\n",
        "  if i in range(len(b)):\n",
        "    c = a[i] + b[i]\n",
        "    sum.append(c)\n",
        "res = tuple(sum)\n",
        "print(res)\n",
        "print(type(res))"
      ],
      "metadata": {
        "colab": {
          "base_uri": "https://localhost:8080/"
        },
        "id": "YjoKHvRWrxka",
        "outputId": "90e2b8f6-1d86-4f90-c15a-8d8559c07406"
      },
      "execution_count": null,
      "outputs": [
        {
          "output_type": "stream",
          "name": "stdout",
          "text": [
            " 11 2 2  33\n",
            "22 3 4 55\n",
            "(33, 5, 6, 88)\n",
            "<class 'tuple'>\n"
          ]
        }
      ]
    },
    {
      "cell_type": "code",
      "source": [
        "x,y = map(int,input(\"enter the space seperated start value\").split())\n",
        "n  = int(input(\"enter the nnumber of elements\"))\n",
        "lists= []\n",
        "for i in range(n):\n",
        "  dx,dy = map(int, input().split())\n",
        "  lists.append((dx,dy))\n",
        "print(lists)\n",
        "for dx,dy in lists:\n",
        "  x += dx\n",
        "  y += dy\n",
        "print(x,y)\n",
        "\n",
        "\n"
      ],
      "metadata": {
        "colab": {
          "base_uri": "https://localhost:8080/"
        },
        "id": "CIjQDp5dwq8_",
        "outputId": "7ebd1211-07c9-46fb-c330-e996e7a77a96"
      },
      "execution_count": null,
      "outputs": [
        {
          "output_type": "stream",
          "name": "stdout",
          "text": [
            " a   b\n"
          ]
        }
      ]
    }
  ]
}