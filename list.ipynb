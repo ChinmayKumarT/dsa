{
  "nbformat": 4,
  "nbformat_minor": 0,
  "metadata": {
    "colab": {
      "provenance": [],
      "include_colab_link": true
    },
    "kernelspec": {
      "name": "python3",
      "display_name": "Python 3"
    },
    "language_info": {
      "name": "python"
    }
  },
  "cells": [
    {
      "cell_type": "markdown",
      "metadata": {
        "id": "view-in-github",
        "colab_type": "text"
      },
      "source": [
        "<a href=\"https://colab.research.google.com/github/ChinmayKumarT/dsa/blob/main/list.ipynb\" target=\"_parent\"><img src=\"https://colab.research.google.com/assets/colab-badge.svg\" alt=\"Open In Colab\"/></a>"
      ]
    },
    {
      "cell_type": "markdown",
      "source": [
        "Interleave two lists using slicing"
      ],
      "metadata": {
        "id": "A5aEpAz5FI7_"
      }
    },
    {
      "cell_type": "code",
      "source": [
        "a = [1,3,5]\n",
        "b = [2,4,6]\n",
        "\n",
        "n =len(a)\n",
        "\n",
        "res = [0] * ( 2 * n)\n",
        "\n",
        "for i in range(n):\n",
        "  res[i * 2 ] = a[i]\n",
        "  res[i * 2 + 1] = b[i]\n",
        "print(res)"
      ],
      "metadata": {
        "colab": {
          "base_uri": "https://localhost:8080/"
        },
        "id": "xKSsw3xZFBUq",
        "outputId": "91ad63ba-6fdc-4b9e-d8dd-e91d99dbb5f5"
      },
      "execution_count": null,
      "outputs": [
        {
          "output_type": "stream",
          "name": "stdout",
          "text": [
            "[1, 2, 3, 4, 5, 6]\n"
          ]
        }
      ]
    },
    {
      "cell_type": "markdown",
      "source": [
        "mirror list"
      ],
      "metadata": {
        "id": "egRTeIV9JhYq"
      }
    },
    {
      "cell_type": "code",
      "source": [
        "a = input(\"enter the list\")\n",
        "\n",
        "print(a[0:] + a[-3::-1])"
      ],
      "metadata": {
        "colab": {
          "base_uri": "https://localhost:8080/"
        },
        "id": "hip_lktRIybv",
        "outputId": "460f8281-2c6d-4bcb-af47-bfa402f16b39"
      },
      "execution_count": null,
      "outputs": [
        {
          "output_type": "stream",
          "name": "stdout",
          "text": [
            "enter the list1 2 3 4 5 \n",
            "1 2 3 4 5  4 3 2 1\n"
          ]
        }
      ]
    },
    {
      "cell_type": "markdown",
      "source": [
        "Extract all elements except every third one"
      ],
      "metadata": {
        "id": "8DPTPlYsMZuP"
      }
    },
    {
      "cell_type": "code",
      "source": [
        "a =input(\"enter the list\")\n",
        "result = list()\n",
        "for i in range(len(a)):\n",
        "  if a[i] % 3 != 0:\n",
        "    result.append(a[i])\n",
        "print(result)"
      ],
      "metadata": {
        "colab": {
          "base_uri": "https://localhost:8080/"
        },
        "id": "eXoRFxupK-lh",
        "outputId": "b24324fd-4927-41a8-cbfc-bba9cd310968"
      },
      "execution_count": null,
      "outputs": [
        {
          "output_type": "stream",
          "name": "stdout",
          "text": [
            "[1, 2, 4, 5, 7, 8]\n"
          ]
        }
      ]
    },
    {
      "cell_type": "markdown",
      "source": [
        "Remove all elements at even indices using slicing"
      ],
      "metadata": {
        "id": "x9ggSr-AOmRQ"
      }
    },
    {
      "cell_type": "code",
      "source": [
        "a =list(input(\"enter the list\").split())\n",
        "result = a[1::2]\n",
        "print(result)\n"
      ],
      "metadata": {
        "colab": {
          "base_uri": "https://localhost:8080/"
        },
        "id": "X3XZTTU6O-2V",
        "outputId": "38e75cd8-6340-4573-8fec-857af2af2ddb"
      },
      "execution_count": null,
      "outputs": [
        {
          "output_type": "stream",
          "name": "stdout",
          "text": [
            "enter the list1 2 3 4 5 6\n",
            "['2', '4', '6']\n"
          ]
        }
      ]
    },
    {
      "cell_type": "markdown",
      "source": [
        "Replace the middle part of a list using slicing."
      ],
      "metadata": {
        "id": "OG_qoZQ1SV8w"
      }
    },
    {
      "cell_type": "code",
      "source": [
        "a =input(\"enter the list\")\n",
        "b = input(\"enter the value to replace\")\n",
        "\n",
        "lenga = len(a)\n",
        "lengb = len(b)\n",
        "mid = len(a) // 2\n",
        "\n",
        "m = mid + lengb\n",
        "\n",
        "print(a[:mid]+b[:]+a[m:])\n"
      ],
      "metadata": {
        "colab": {
          "base_uri": "https://localhost:8080/"
        },
        "id": "_obamHzWQZOh",
        "outputId": "53d6ffe8-104f-4c11-a413-863aeadfc5ce"
      },
      "execution_count": null,
      "outputs": [
        {
          "output_type": "stream",
          "name": "stdout",
          "text": [
            "enter the list1 2 3 4 5 6 7\n",
            "enter the value to replacea b \n",
            "1 2 3 a b 6 7\n"
          ]
        }
      ]
    },
    {
      "cell_type": "code",
      "source": [
        "a =list(map(int,input(\"enter the list\").split()))\n",
        "\n",
        "i = 0\n",
        "j = len(a)-1\n",
        "result = []\n",
        "\n",
        "while i < j :\n",
        "  result.append(a[i])\n",
        "  result.append(a[j])\n",
        "  i+=1\n",
        "  j-=1\n",
        "if i == j:\n",
        "  result.append(a[i])\n",
        "\n",
        "print(result)\n",
        "\n",
        "\n"
      ],
      "metadata": {
        "colab": {
          "base_uri": "https://localhost:8080/"
        },
        "id": "bgp0-TF-Un62",
        "outputId": "3f61f353-ada1-46df-ca66-098252ce967b"
      },
      "execution_count": null,
      "outputs": [
        {
          "output_type": "stream",
          "name": "stdout",
          "text": [
            "enter the list1 2 3 4 5 6\n",
            "[1, 6, 2, 5, 3, 4]\n"
          ]
        }
      ]
    },
    {
      "cell_type": "markdown",
      "source": [
        "reverse the center"
      ],
      "metadata": {
        "id": "j4wbK6yRaU-I"
      }
    },
    {
      "cell_type": "code",
      "source": [
        "a =input(\"enter the list\")\n",
        "leng = len(a)\n",
        "last = a[leng - 1]\n",
        "first = a[0]\n",
        "value = a[1:len(a)-1]\n",
        "rev = value[::-1]\n",
        "\n",
        "print(first + rev  + last )"
      ],
      "metadata": {
        "id": "1xPQBSdOWHHC",
        "colab": {
          "base_uri": "https://localhost:8080/"
        },
        "outputId": "e169d37e-5013-4f66-b1af-610432181eec"
      },
      "execution_count": null,
      "outputs": [
        {
          "output_type": "stream",
          "name": "stdout",
          "text": [
            "enter the list1 2 3 5 6\n",
            "1 5 3 2 6\n"
          ]
        }
      ]
    },
    {
      "cell_type": "markdown",
      "source": [
        " Diamond Slice"
      ],
      "metadata": {
        "id": "tjYeA5KYDL_h"
      }
    },
    {
      "cell_type": "code",
      "source": [
        "a = list(map(int,input(\"enter odd number\").split()))\n",
        "leng = len(a)\n",
        "if leng % 2 == 0:\n",
        "  print(\"enter odd number\")\n",
        "else:\n",
        "    mid = leng // 2\n",
        "    result= []\n",
        "    for i in range(1,leng+1,2):\n",
        "      start = mid - i // 2\n",
        "      end = mid + i // 2 +1\n",
        "      result.append(a[start:end])\n",
        "    print(result)\n",
        "\n"
      ],
      "metadata": {
        "colab": {
          "base_uri": "https://localhost:8080/"
        },
        "id": "kuH0Fi41C9-W",
        "outputId": "fcbdf5cc-54d8-469d-d0e3-e65a22faca1a"
      },
      "execution_count": null,
      "outputs": [
        {
          "output_type": "stream",
          "name": "stdout",
          "text": [
            "enter odd number1 2 3 4 5 \n",
            "[[3], [2, 3, 4], [1, 2, 3, 4, 5]]\n"
          ]
        }
      ]
    },
    {
      "cell_type": "markdown",
      "source": [
        "puzzle slicing"
      ],
      "metadata": {
        "id": "3VGTK-RsGp3R"
      }
    },
    {
      "cell_type": "code",
      "source": [
        "a = list(map(int,input(\"enter a list\").split()))\n",
        "b = int(input(\"enter value for grouping\"))\n",
        "res = []\n",
        "for i in range(0,len(a),b):\n",
        "  res.append(a[i:i+b])\n",
        "print(res)"
      ],
      "metadata": {
        "colab": {
          "base_uri": "https://localhost:8080/"
        },
        "id": "dty0hn_rHRNN",
        "outputId": "346341de-8774-4b3e-d5db-ced7092c9051"
      },
      "execution_count": null,
      "outputs": [
        {
          "output_type": "stream",
          "name": "stdout",
          "text": [
            "enter a list1 2 3 4\n",
            "enter value for grouping2\n",
            "[[1, 2], [3, 4]]\n"
          ]
        }
      ]
    },
    {
      "cell_type": "markdown",
      "source": [
        "rolling window"
      ],
      "metadata": {
        "id": "_Bp10HqdO9Tv"
      }
    },
    {
      "cell_type": "code",
      "source": [
        "a = list(map(int,input(\"enter a list\").split()))\n",
        "b = int(input(\"enter value for grouping\"))\n",
        "res = []\n",
        "for i in range(len(a) -b + 1):\n",
        "  result = a[i:i+b]\n",
        "  res.append(result)\n",
        "\n",
        "\n",
        "print(res)\n"
      ],
      "metadata": {
        "colab": {
          "base_uri": "https://localhost:8080/"
        },
        "id": "10tB9O0GH1mE",
        "outputId": "182ae917-2391-4d4a-d522-97bfc28fd94c"
      },
      "execution_count": null,
      "outputs": [
        {
          "output_type": "stream",
          "name": "stdout",
          "text": [
            "enter a list1 2 3 4 5 6\n",
            "enter value for grouping2\n",
            "[[1, 2], [2, 3], [3, 4], [4, 5], [5, 6]]\n"
          ]
        }
      ]
    },
    {
      "cell_type": "code",
      "source": [
        "list=[1,2,3,4]\n",
        "for i in ramge(len(list)-1,-1,-1):\n"
      ],
      "metadata": {
        "id": "q1TXrLsyNo0V"
      },
      "execution_count": null,
      "outputs": []
    }
  ]
}