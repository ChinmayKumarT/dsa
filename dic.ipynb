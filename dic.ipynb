{
  "nbformat": 4,
  "nbformat_minor": 0,
  "metadata": {
    "colab": {
      "provenance": [],
      "authorship_tag": "ABX9TyN96LBnTK968fkkERq7hk7J",
      "include_colab_link": true
    },
    "kernelspec": {
      "name": "python3",
      "display_name": "Python 3"
    },
    "language_info": {
      "name": "python"
    }
  },
  "cells": [
    {
      "cell_type": "markdown",
      "metadata": {
        "id": "view-in-github",
        "colab_type": "text"
      },
      "source": [
        "<a href=\"https://colab.research.google.com/github/ChinmayKumarT/dsa/blob/main/dic.ipynb\" target=\"_parent\"><img src=\"https://colab.research.google.com/assets/colab-badge.svg\" alt=\"Open In Colab\"/></a>"
      ]
    },
    {
      "cell_type": "code",
      "execution_count": null,
      "metadata": {
        "colab": {
          "base_uri": "https://localhost:8080/"
        },
        "id": "U6GTX7_Li09-",
        "outputId": "212e437a-01fc-4de9-a503-3cf1fe03b748"
      },
      "outputs": [
        {
          "output_type": "stream",
          "name": "stdout",
          "text": [
            "enterfggggdfg\n",
            "f appear for 2 times\n",
            "g appear for 5 times\n",
            "d appear for 1 times\n"
          ]
        }
      ],
      "source": [
        "a = input(\"enter\")\n",
        "\n",
        "freq = {}\n",
        "for i in a :\n",
        "    if i in freq:\n",
        "      freq[i]+=1\n",
        "    else:\n",
        "      freq[i] = 1\n",
        "for key,value in freq.items():\n",
        "  print(f\"{key} appear for {value} times\")\n"
      ]
    },
    {
      "cell_type": "code",
      "source": [
        "sentence = \"the sun rises in the east and sets in the west\"\n",
        "\n",
        "spit = sentence.split()\n",
        "print(spit)\n",
        "freq = {}\n",
        "for i in spit :\n",
        "    if i in freq:\n",
        "      freq[i]+=1\n",
        "    else:\n",
        "      freq[i] = 1\n",
        "for key,value in freq.items():\n",
        "  print(f\"{key} appear for {value} times\")\n"
      ],
      "metadata": {
        "colab": {
          "base_uri": "https://localhost:8080/"
        },
        "id": "dxTwH6Si2JPo",
        "outputId": "d98a1e47-7f8c-468d-810c-ed1ef96ec20f"
      },
      "execution_count": null,
      "outputs": [
        {
          "output_type": "stream",
          "name": "stdout",
          "text": [
            "['the', 'sun', 'rises', 'in', 'the', 'east', 'and', 'sets', 'in', 'the', 'west']\n",
            "the appear for 3 times\n",
            "sun appear for 1 times\n",
            "rises appear for 1 times\n",
            "in appear for 2 times\n",
            "east appear for 1 times\n",
            "and appear for 1 times\n",
            "sets appear for 1 times\n",
            "west appear for 1 times\n"
          ]
        }
      ]
    },
    {
      "cell_type": "code",
      "source": [
        "a = input(\"enter\")\n",
        "#b = a.split()\n",
        "\n",
        "charec = 0\n",
        "digit = 0\n",
        "symbols = 0\n",
        "\n",
        "for i in a :\n",
        "  if i.isalpha() :\n",
        "    charec += 1\n",
        "\n",
        "  elif i.isdigit() :\n",
        "    digit += 1\n",
        "\n",
        "  else :\n",
        "    symbols += 1\n",
        "\n",
        "print(f\"charector type count : ('letter' : {charec} , 'digit' : {digit} , 'symbol' : {symbols})\")\n"
      ],
      "metadata": {
        "colab": {
          "base_uri": "https://localhost:8080/"
        },
        "id": "vFySSZxmnrDR",
        "outputId": "0461e916-c8c0-4fa7-f497-2ac915bf0e96"
      },
      "execution_count": null,
      "outputs": [
        {
          "output_type": "stream",
          "name": "stdout",
          "text": [
            "enterdas!@#123\n",
            "charector type count : ('letter' : 3 , 'digit' : 3 , 'symbol' : 3)\n",
            "3\n",
            "3\n",
            "3\n"
          ]
        }
      ]
    },
    {
      "cell_type": "code",
      "source": [
        "a = input(\"enter\")\n",
        "\n",
        "d = {'letters': 0 , 'digits' : 0 , 'symbols' : 0}\n",
        "\n",
        "for i in a :\n",
        "  if i.isalpha() :\n",
        "    d['letters'] += 1\n",
        "\n",
        "  elif i.isdigit() :\n",
        "    d['digits'] += 1\n",
        "\n",
        "  else :\n",
        "    d['symbols']+= 1\n",
        "\n",
        "print(\"charector type count : \" , d)\n"
      ],
      "metadata": {
        "colab": {
          "base_uri": "https://localhost:8080/"
        },
        "id": "ovH4AUKtomuQ",
        "outputId": "78f4395f-acc0-437a-9851-4520d47800b5"
      },
      "execution_count": null,
      "outputs": [
        {
          "output_type": "stream",
          "name": "stdout",
          "text": [
            "enterasf!@21\n",
            "charector type count :  {'letters': 3, 'digits': 2, 'symbols': 2}\n"
          ]
        }
      ]
    },
    {
      "cell_type": "code",
      "source": [
        "logs = {\n",
        "\"Monday\": {\"Asha\": 8, \"Ravi\": 6, \"Leela\": 9},\n",
        "\"Tuesday\": {\"Asha\": 7, \"Ravi\": 7, \"Leela\": 8},\n",
        "\"Wednesday\": {\"Asha\": 8, \"Ravi\": 5, \"Leela\": 9}\n",
        "}\n",
        "\n",
        "dict1 = logs[\"Monday\"]\n",
        "dict2 = logs[\"Tuesday\"]\n",
        "dict3 = logs[\"Wednesday\"]\n",
        "\n",
        "result = {}\n",
        "\n",
        "for key in dict1:\n",
        "    if key in dict2 and key in dict3:\n",
        "        result[key] = dict1[key] + dict2[key] + dict3[key]\n",
        "\n",
        "\n",
        "print(\"weakly hours per employee\")\n",
        "for key, value in result.items():\n",
        "    print(f\"{key}: {value} hours\")\n",
        "\n",
        "\n",
        "print(\"top performers\")\n",
        "for key, value in result.items():\n",
        "    if value == max(result.values()):\n",
        "        print(key, value ,\" hours\")\n",
        "\n",
        "print(\"less than 20 hours\")\n",
        "for key, value in result.items():\n",
        "    if value <= 20:\n",
        "        print(key,\": Only \", value ,\" hours!\")\n"
      ],
      "metadata": {
        "colab": {
          "base_uri": "https://localhost:8080/"
        },
        "id": "8szsV-1euSqG",
        "outputId": "0c4db718-b5cc-492e-9f11-9ebe193f774a"
      },
      "execution_count": null,
      "outputs": [
        {
          "output_type": "stream",
          "name": "stdout",
          "text": [
            "weakly hours per employee\n",
            "Asha: 23 hours\n",
            "Ravi: 18 hours\n",
            "Leela: 26 hours\n",
            "top performers\n",
            "Leela 26  hours\n",
            "less than 20 hours\n",
            "Ravi : only  18  hours!\n"
          ]
        }
      ]
    },
    {
      "cell_type": "code",
      "source": [
        "logs = {\n",
        "\"Monday\": {\"Asha\": 8, \"Ravi\": 6, \"Leela\": 9},\n",
        "\"Tuesday\": {\"Asha\": 7, \"Ravi\": 7, \"Leela\": 8},\n",
        "\"Wednesday\": {\"Asha\": 8, \"Ravi\": 5, \"Leela\": 9}\n",
        "}\n",
        "\n",
        "total_hours = {}\n",
        "for day_log in logs.values():\n",
        "    for employee, hours in day_log.items():\n",
        "      if employee not in total_hours:\n",
        "        total_hours[employee] = 0\n",
        "      total_hours[employee] += hours\n",
        "\n",
        "print(\"weakly hours per employee\")\n",
        "for employee, hours in total_hours.items():\n",
        "    print(f\"    {employee}: {hours} hours\")\n",
        "\n",
        "max_hours = max(total_hours.values())\n",
        "top_performers = [employee for employee, hours in total_hours.items() if hours == max_hours]\n",
        "print(\"top performers\")\n",
        "for employee in top_performers:\n",
        "    print(f\"    {employee}: {max_hours} hours\")\n",
        "\n",
        "print(\"less than 20 hours\")\n",
        "for employee, hours in total_hours.items():\n",
        "    if hours < 20:\n",
        "      print(f\"    {employee}: Only {hours} hours!\")"
      ],
      "metadata": {
        "colab": {
          "base_uri": "https://localhost:8080/"
        },
        "id": "apFAY5jQyCtu",
        "outputId": "bd6539c4-f944-4cf9-8e39-c2fef75c8d0f"
      },
      "execution_count": null,
      "outputs": [
        {
          "output_type": "stream",
          "name": "stdout",
          "text": [
            "weakly hours per employee\n",
            "    Asha: 23 hours\n",
            "    Ravi: 18 hours\n",
            "    Leela: 26 hours\n",
            "top performers\n",
            "    Leela: 26 hours\n",
            "less than 20 hours\n",
            "    Ravi: Only 18 hours!\n"
          ]
        }
      ]
    },
    {
      "cell_type": "code",
      "source": [
        "stock = {\n",
        "          \"pen\": 30,\n",
        "          \"notebook\":5,\n",
        "          \"eraser\": 2,\n",
        "          \"pencil\": 0,\n",
        "          \"marker\": 10\n",
        "          }\n",
        "\n",
        "thurshold = 5\n",
        "\n",
        "updated_stock = {}\n",
        "below_stock = {}\n",
        "\n",
        "\n",
        "print(\" item at or below\")\n",
        "for key, value in stock.items():\n",
        "    if value <= thurshold:\n",
        "        print(f\" - {key}: {value} \")\n",
        "\n",
        "print(\"Restock list:\")\n",
        "for key in stock.items():\n",
        "    updated_stock[key[0]] = 20 - key[1]\n",
        "print(updated_stock)\n"
      ],
      "metadata": {
        "colab": {
          "base_uri": "https://localhost:8080/"
        },
        "id": "qtTD0P7_5plF",
        "outputId": "53a6e89b-585e-4ab7-b0dd-2095e8847a29"
      },
      "execution_count": null,
      "outputs": [
        {
          "output_type": "stream",
          "name": "stdout",
          "text": [
            " item at or below\n",
            " - notebook: 5 \n",
            " - eraser: 2 \n",
            " - pencil: 0 \n",
            "Restock list:\n",
            "{'pen': -10, 'notebook': 15, 'eraser': 18, 'pencil': 20, 'marker': 10}\n"
          ]
        }
      ]
    },
    {
      "cell_type": "code",
      "source": [
        "\n",
        "stock = {\n",
        "          \"pen\": 30,\n",
        "          \"notebook\":5,\n",
        "          \"eraser\": 2,\n",
        "          \"pencil\": 0,\n",
        "          \"marker\": 10\n",
        "          }\n",
        "\n",
        "thurshold = 5\n",
        "\n",
        "updated_stock = {}\n",
        "\n",
        "\n",
        "print(\" item at or below\")\n",
        "at_or_below = [key for key, value in stock.items() if value <= thurshold]\n",
        "for key in at_or_below:\n",
        "    print(f\"    {key}: {value} \")\n",
        "\n",
        "\n",
        "print(\"Restock list:\")\n",
        "for key in stock.items():\n",
        "    updated_stock[key[0]] = 20 - key[1]\n",
        "print(updated_stock)\n",
        "\n"
      ],
      "metadata": {
        "colab": {
          "base_uri": "https://localhost:8080/"
        },
        "collapsed": true,
        "id": "iiB4ChZuHlqR",
        "outputId": "1f4e4d27-6b8c-4abb-aa25-2c2968718b31"
      },
      "execution_count": null,
      "outputs": [
        {
          "output_type": "stream",
          "name": "stdout",
          "text": [
            " item at or below\n",
            "    notebook: 10 \n",
            "    eraser: 10 \n",
            "    pencil: 10 \n",
            "Restock list:\n",
            "{'pen': -10, 'notebook': 15, 'eraser': 18, 'pencil': 20, 'marker': 10}\n"
          ]
        }
      ]
    },
    {
      "cell_type": "markdown",
      "source": [
        "two sum"
      ],
      "metadata": {
        "id": "yes-K_T7LcXa"
      }
    },
    {
      "cell_type": "code",
      "source": [
        "a = [1,3,2,4,5,7]\n",
        "target = 9\n",
        "freq = {}\n",
        "j = 0\n",
        "for i in a :\n",
        "    c = target - i\n",
        "    if c in freq:\n",
        "        print(freq[c] , j)\n",
        "    freq[i] = j\n",
        "    j= j+1\n",
        "print(c)\n"
      ],
      "metadata": {
        "colab": {
          "base_uri": "https://localhost:8080/"
        },
        "id": "er3yX9-SJvYp",
        "outputId": "3ca68eb0-b22d-40d8-d35c-d85ad876d456"
      },
      "execution_count": null,
      "outputs": [
        {
          "output_type": "stream",
          "name": "stdout",
          "text": [
            "3 4\n",
            "2 5\n",
            "2\n"
          ]
        }
      ]
    },
    {
      "cell_type": "code",
      "source": [
        "ar = [32,41,36,32,33,34,42,36]\n",
        "\n",
        "for i in range(len(arr)):\n"
      ],
      "metadata": {
        "id": "GggXrlecQdLs"
      },
      "execution_count": null,
      "outputs": []
    },
    {
      "cell_type": "code",
      "source": [
        "temp = [32, 41, 36, 32, 33, 34, 42, 36]\n",
        "\n",
        "for i in range(len(temp)):\n",
        "    days = 0\n",
        "    for j in range(i+1, len(temp)):\n",
        "        days += 1\n",
        "        if temp[j] > temp[i]:\n",
        "            print(f\"Day {i+1} → temperature increased after {days} days\")\n",
        "            break\n",
        "    else:\n",
        "        print(f\"Day {i+1} → no future warmer day\")"
      ],
      "metadata": {
        "colab": {
          "base_uri": "https://localhost:8080/"
        },
        "id": "2wgZIIGOWZQF",
        "outputId": "c2d284e0-d681-462e-d694-bd2dfed1c8db"
      },
      "execution_count": null,
      "outputs": [
        {
          "output_type": "stream",
          "name": "stdout",
          "text": [
            "Day 1 → temperature increased after 1 days\n",
            "Day 2 → temperature increased after 5 days\n",
            "Day 3 → temperature increased after 4 days\n",
            "Day 4 → temperature increased after 1 days\n",
            "Day 5 → temperature increased after 1 days\n",
            "Day 6 → temperature increased after 1 days\n",
            "Day 7 → no future warmer day\n",
            "Day 8 → no future warmer day\n"
          ]
        }
      ]
    },
    {
      "cell_type": "code",
      "source": [],
      "metadata": {
        "id": "eD_IjuXEWeHf"
      },
      "execution_count": null,
      "outputs": []
    }
  ]
}