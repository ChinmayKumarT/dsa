{
  "nbformat": 4,
  "nbformat_minor": 0,
  "metadata": {
    "colab": {
      "provenance": [],
      "authorship_tag": "ABX9TyMWuJZ4XYovCTp7DF00XpEE",
      "include_colab_link": true
    },
    "kernelspec": {
      "name": "python3",
      "display_name": "Python 3"
    },
    "language_info": {
      "name": "python"
    }
  },
  "cells": [
    {
      "cell_type": "markdown",
      "metadata": {
        "id": "view-in-github",
        "colab_type": "text"
      },
      "source": [
        "<a href=\"https://colab.research.google.com/github/ChinmayKumarT/dsa/blob/main/graphs.ipynb\" target=\"_parent\"><img src=\"https://colab.research.google.com/assets/colab-badge.svg\" alt=\"Open In Colab\"/></a>"
      ]
    },
    {
      "cell_type": "markdown",
      "source": [
        "## graph matrix"
      ],
      "metadata": {
        "id": "9aKW8OfC5Lv8"
      }
    },
    {
      "cell_type": "code",
      "execution_count": null,
      "metadata": {
        "colab": {
          "base_uri": "https://localhost:8080/"
        },
        "id": "SAeZnQl9yTpl",
        "outputId": "16c41e66-4bab-4ae5-f87d-7a02eae038ab"
      },
      "outputs": [
        {
          "output_type": "stream",
          "name": "stdout",
          "text": [
            "[0, 1, 1, 0, 0]\n",
            "[1, 0, 0, 1, 1]\n",
            "[1, 0, 0, 0, 0]\n",
            "[0, 1, 0, 0, 0]\n",
            "[0, 1, 0, 0, 0]\n"
          ]
        }
      ],
      "source": [
        "class GraphMatrix:\n",
        "  def __init__(self,vertices):\n",
        "    self.v = vertices\n",
        "    self.graph = [[0] * vertices for _ in range(vertices)]\n",
        "\n",
        "\n",
        "  def addEdge(self ,u,v):\n",
        "    self.graph[u][v] = 1\n",
        "\n",
        "    self.graph[v][u] = 1\n",
        "\n",
        "\n",
        "\n",
        "g = GraphMatrix(5)\n",
        "g.addEdge(0,1)\n",
        "g.addEdge(0,2)\n",
        "g.addEdge(1,3)\n",
        "g.addEdge(1,4)\n",
        "\n",
        "\n",
        "for row in g.graph:\n",
        "  print(row)"
      ]
    },
    {
      "cell_type": "markdown",
      "source": [
        "## graph list"
      ],
      "metadata": {
        "id": "rIbCg6rp5GA2"
      }
    },
    {
      "cell_type": "code",
      "source": [
        "class GraphMatrix:\n",
        "  def __init__(self,vertices):\n",
        "    self.v = vertices\n",
        "    self.graph = [[]  for _ in range(vertices)]\n",
        "\n",
        "\n",
        "  def addEdge(self ,u,v):\n",
        "    self.graph[u].append(v)\n",
        "\n",
        "    self.graph[v].append(u)\n",
        "\n",
        "\n",
        "g = GraphMatrix(5)\n",
        "g.addEdge(0,1)\n",
        "g.addEdge(0,2)\n",
        "g.addEdge(1,3)\n",
        "g.addEdge(1,4)\n",
        "#g.display()\n",
        "\n",
        "for i in range(g.v):\n",
        "  print(f\"{i}\", g.graph[i])\n",
        "\n"
      ],
      "metadata": {
        "colab": {
          "base_uri": "https://localhost:8080/"
        },
        "id": "NH35vyu84RdJ",
        "outputId": "e2d242b4-f379-471a-f8dc-3ac2716df359"
      },
      "execution_count": null,
      "outputs": [
        {
          "output_type": "stream",
          "name": "stdout",
          "text": [
            "0 [1, 2]\n",
            "1 [0, 3, 4]\n",
            "2 [0]\n",
            "3 [1]\n",
            "4 [1]\n"
          ]
        }
      ]
    },
    {
      "cell_type": "code",
      "source": [],
      "metadata": {
        "id": "3hlqcy77-F75"
      },
      "execution_count": null,
      "outputs": []
    },
    {
      "cell_type": "code",
      "source": [],
      "metadata": {
        "id": "8Zq82C756kPt"
      },
      "execution_count": null,
      "outputs": []
    }
  ]
}