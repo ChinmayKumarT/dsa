{
  "nbformat": 4,
  "nbformat_minor": 0,
  "metadata": {
    "colab": {
      "provenance": [],
      "authorship_tag": "ABX9TyNeAaJ1Eukw2vHIsTLkjEl0",
      "include_colab_link": true
    },
    "kernelspec": {
      "name": "python3",
      "display_name": "Python 3"
    },
    "language_info": {
      "name": "python"
    }
  },
  "cells": [
    {
      "cell_type": "markdown",
      "metadata": {
        "id": "view-in-github",
        "colab_type": "text"
      },
      "source": [
        "<a href=\"https://colab.research.google.com/github/ChinmayKumarT/dsa/blob/main/circular_linked_list.ipynb\" target=\"_parent\"><img src=\"https://colab.research.google.com/assets/colab-badge.svg\" alt=\"Open In Colab\"/></a>"
      ]
    },
    {
      "cell_type": "code",
      "execution_count": null,
      "metadata": {
        "id": "ER0ObcwkHvPW"
      },
      "outputs": [],
      "source": [
        "class node :\n",
        "  def __init__(self,data):\n",
        "    self.data = data\n",
        "    self.next = None\n",
        "    self.prev = None\n",
        "\n"
      ]
    },
    {
      "cell_type": "code",
      "source": [
        "from typing_extensions import NotRequired\n",
        "class circular_linkedlist:\n",
        "  def __init__(self):\n",
        "    self.head = None\n",
        "\n",
        "  def insert_at_beginning(self,data):\n",
        "    new_node  = node(data)\n",
        "    if not self.head:\n",
        "      self.head = new_node\n",
        "      self.head.prev = self.head\n",
        "      self.head.next = self.head\n",
        "      return\n",
        "    last = self.head.prev\n",
        "    new_node.next = self.head\n",
        "    new_node.prev = last\n",
        "    last.next = new_node\n",
        "    self.head.prev = new_node\n",
        "    self.head = new_node\n",
        "\n",
        "\n",
        "  def insert_at_end(self,data):\n",
        "    new_node = node(data)\n",
        "    if not self.head :\n",
        "      self.head = new_node\n",
        "      self.head.prev = new_node\n",
        "      self.head.next = new_node\n",
        "\n",
        "    temp = self.head\n",
        "    while temp.next != self.head:\n",
        "      temp = temp.next\n",
        "    temp.next = new_node\n",
        "    new_node.prev = temp\n",
        "    new_node.next = self.head\n",
        "    self.head.prev = new_node\n",
        "\n",
        "\n",
        "  def print_forward(self):\n",
        "    if not self.head:\n",
        "      return 'empty'\n",
        "    temp = self.head\n",
        "    while temp :\n",
        "      print(temp.data , end = ' --> ')\n",
        "      temp = temp.next\n",
        "      if temp == self.head:\n",
        "        break\n",
        "    print(\"None\")\n",
        "\n",
        "\n",
        "  def print_backward(self):\n",
        "    if not self.head:\n",
        "      return 'empty'\n",
        "\n",
        "    temp = self.head\n",
        "\n",
        "    while temp.next != self.head:\n",
        "      temp = temp.next\n",
        "\n",
        "    start = temp\n",
        "\n",
        "    while temp:\n",
        "      print(temp.data , end = ' --> ')\n",
        "      temp = temp.prev\n",
        "      if temp == start:\n",
        "        break\n",
        "\n",
        "    print('none')\n",
        "\n",
        "  def dele(self , value ):\n",
        "    if not self.head:\n",
        "      return 'empty_'\n",
        "\n",
        "    temp = self.head\n",
        "    while temp:\n",
        "      if temp.data == value:\n",
        "         if temp.next == temp:\n",
        "           self.head = None\n",
        "           return\n",
        "         temp.prev.next = temp.next\n",
        "\n",
        "\n",
        "      while temp.next != self.head:\n",
        "        if temp.data == value:\n",
        "          temp.prev.next = temp.next\n",
        "          temp.next.prev = temp.prev\n",
        "          if temp == self.head:\n",
        "            self.head = temp.next\n",
        "          return\n",
        "        temp = temp.next\n",
        "\n",
        "\n",
        "\n"
      ],
      "metadata": {
        "id": "u1XVNA0ZLhsk"
      },
      "execution_count": null,
      "outputs": []
    },
    {
      "cell_type": "code",
      "source": [
        "c1 = circular_linkedlist()\n",
        "c1.insert_at_end(1)\n",
        "c1.insert_at_end(2)\n",
        "c1.insert_at_end(3)\n",
        "c1.insert_at_end(4)\n",
        "c1.insert_at_end(5)\n",
        "c1.dele(5)\n",
        "c1.print_forward()\n",
        "c1.print_backward()\n",
        "\n",
        "\n"
      ],
      "metadata": {
        "id": "5jis6dJIIoQ5",
        "colab": {
          "base_uri": "https://localhost:8080/",
          "height": 332
        },
        "outputId": "ca58df6d-9c86-4d19-bfbb-7b55735e85a6"
      },
      "execution_count": null,
      "outputs": [
        {
          "output_type": "error",
          "ename": "KeyboardInterrupt",
          "evalue": "",
          "traceback": [
            "\u001b[0;31m---------------------------------------------------------------------------\u001b[0m",
            "\u001b[0;31mKeyboardInterrupt\u001b[0m                         Traceback (most recent call last)",
            "\u001b[0;32m/tmp/ipython-input-1225029500.py\u001b[0m in \u001b[0;36m<cell line: 0>\u001b[0;34m()\u001b[0m\n\u001b[1;32m      5\u001b[0m \u001b[0mc1\u001b[0m\u001b[0;34m.\u001b[0m\u001b[0minsert_at_end\u001b[0m\u001b[0;34m(\u001b[0m\u001b[0;36m4\u001b[0m\u001b[0;34m)\u001b[0m\u001b[0;34m\u001b[0m\u001b[0;34m\u001b[0m\u001b[0m\n\u001b[1;32m      6\u001b[0m \u001b[0mc1\u001b[0m\u001b[0;34m.\u001b[0m\u001b[0minsert_at_end\u001b[0m\u001b[0;34m(\u001b[0m\u001b[0;36m5\u001b[0m\u001b[0;34m)\u001b[0m\u001b[0;34m\u001b[0m\u001b[0;34m\u001b[0m\u001b[0m\n\u001b[0;32m----> 7\u001b[0;31m \u001b[0mc1\u001b[0m\u001b[0;34m.\u001b[0m\u001b[0mdele\u001b[0m\u001b[0;34m(\u001b[0m\u001b[0;36m5\u001b[0m\u001b[0;34m)\u001b[0m\u001b[0;34m\u001b[0m\u001b[0;34m\u001b[0m\u001b[0m\n\u001b[0m\u001b[1;32m      8\u001b[0m \u001b[0mc1\u001b[0m\u001b[0;34m.\u001b[0m\u001b[0mprint_forward\u001b[0m\u001b[0;34m(\u001b[0m\u001b[0;34m)\u001b[0m\u001b[0;34m\u001b[0m\u001b[0;34m\u001b[0m\u001b[0m\n\u001b[1;32m      9\u001b[0m \u001b[0mc1\u001b[0m\u001b[0;34m.\u001b[0m\u001b[0mprint_backward\u001b[0m\u001b[0;34m(\u001b[0m\u001b[0;34m)\u001b[0m\u001b[0;34m\u001b[0m\u001b[0;34m\u001b[0m\u001b[0m\n",
            "\u001b[0;32m/tmp/ipython-input-46004296.py\u001b[0m in \u001b[0;36mdele\u001b[0;34m(self, value)\u001b[0m\n\u001b[1;32m     71\u001b[0m \u001b[0;34m\u001b[0m\u001b[0m\n\u001b[1;32m     72\u001b[0m     \u001b[0mtemp\u001b[0m \u001b[0;34m=\u001b[0m \u001b[0mself\u001b[0m\u001b[0;34m.\u001b[0m\u001b[0mhead\u001b[0m\u001b[0;34m\u001b[0m\u001b[0;34m\u001b[0m\u001b[0m\n\u001b[0;32m---> 73\u001b[0;31m     \u001b[0;32mwhile\u001b[0m \u001b[0mtemp\u001b[0m\u001b[0;34m:\u001b[0m\u001b[0;34m\u001b[0m\u001b[0;34m\u001b[0m\u001b[0m\n\u001b[0m\u001b[1;32m     74\u001b[0m       \u001b[0;32mif\u001b[0m \u001b[0mtemp\u001b[0m\u001b[0;34m.\u001b[0m\u001b[0mdata\u001b[0m \u001b[0;34m==\u001b[0m \u001b[0mvalue\u001b[0m\u001b[0;34m:\u001b[0m\u001b[0;34m\u001b[0m\u001b[0;34m\u001b[0m\u001b[0m\n\u001b[1;32m     75\u001b[0m          \u001b[0;32mif\u001b[0m \u001b[0mtemp\u001b[0m\u001b[0;34m.\u001b[0m\u001b[0mnext\u001b[0m \u001b[0;34m==\u001b[0m \u001b[0mtemp\u001b[0m\u001b[0;34m:\u001b[0m\u001b[0;34m\u001b[0m\u001b[0;34m\u001b[0m\u001b[0m\n",
            "\u001b[0;31mKeyboardInterrupt\u001b[0m: "
          ]
        }
      ]
    },
    {
      "cell_type": "code",
      "source": [],
      "metadata": {
        "id": "02IW3fCXSOiX"
      },
      "execution_count": null,
      "outputs": []
    }
  ]
}