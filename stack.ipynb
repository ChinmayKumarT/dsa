{
  "nbformat": 4,
  "nbformat_minor": 0,
  "metadata": {
    "colab": {
      "provenance": [],
      "authorship_tag": "ABX9TyNDw/pv5jAysBXrPh1nsUWU",
      "include_colab_link": true
    },
    "kernelspec": {
      "name": "python3",
      "display_name": "Python 3"
    },
    "language_info": {
      "name": "python"
    }
  },
  "cells": [
    {
      "cell_type": "markdown",
      "metadata": {
        "id": "view-in-github",
        "colab_type": "text"
      },
      "source": [
        "<a href=\"https://colab.research.google.com/github/ChinmayKumarT/dsa/blob/main/stack.ipynb\" target=\"_parent\"><img src=\"https://colab.research.google.com/assets/colab-badge.svg\" alt=\"Open In Colab\"/></a>"
      ]
    },
    {
      "cell_type": "markdown",
      "source": [
        "using list"
      ],
      "metadata": {
        "id": "g52TKXgVepHS"
      }
    },
    {
      "cell_type": "code",
      "source": [
        "\n",
        "class stack:\n",
        "  def __init__(self,max_capacity):\n",
        "    self.stack = []\n",
        "    self.max_capacity = max_capacity\n",
        "\n",
        "\n",
        "  def is_full(self):\n",
        "    return len(self.stack) >= self.max_capacity\n",
        "\n",
        "  def is_empty(self):\n",
        "    return len(self.stack)==0\n",
        "\n",
        "  def push(self,item):\n",
        "    if self.is_full():\n",
        "      print(\"stack is full\")\n",
        "      return\n",
        "    self.stack.append(item)\n",
        "\n",
        "\n",
        "  def pop(self):\n",
        "    if self.is_empty():\n",
        "      print(\"stack is empty\")\n",
        "      return\n",
        "    return self.stack.pop()\n",
        "\n",
        "\n",
        "\n",
        "  def peek(self):\n",
        "    if self.is_empty():\n",
        "      print(\"stack is empty\")\n",
        "      return\n",
        "    return self.stack[-1]\n",
        "\n",
        "  def length(self):\n",
        "    return len(self.stack)\n",
        "\n",
        "  def display(self):\n",
        "    if self.is_empty():\n",
        "      print(\"stack is empty\")\n",
        "      return\n",
        "    size = self.length()\n",
        "    for i in range(size -1 , -1 , -1 ):\n",
        "      print(self.stack[i])\n",
        "\n",
        "  def slic(self):\n",
        "    print(self.stack)\n",
        "\n",
        "  def print(self):\n",
        "    print(self.stack)\n",
        "\n",
        "\n",
        "\n",
        "\n",
        "\n",
        "\n"
      ],
      "metadata": {
        "id": "kXzHjp9LTddF"
      },
      "execution_count": null,
      "outputs": []
    },
    {
      "cell_type": "code",
      "execution_count": null,
      "metadata": {
        "colab": {
          "base_uri": "https://localhost:8080/"
        },
        "id": "3oDBN0DxSlDs",
        "outputId": "107bf10d-81a4-4949-f51d-550b03dc4f47"
      },
      "outputs": [
        {
          "output_type": "stream",
          "name": "stdout",
          "text": [
            "3\n",
            "2\n",
            "1\n",
            "[1, 2, 3]\n"
          ]
        }
      ],
      "source": [
        "s1 = stack(10)\n",
        "s1.push(1)\n",
        "s1.push(2)\n",
        "s1.push(3)\n",
        "\n",
        "#s1.slic()\n",
        "##s1.peek()\n",
        "#s1.display()\n",
        "#s1.length()\n",
        "s1.display()\n",
        "s1.print()"
      ]
    },
    {
      "cell_type": "markdown",
      "source": [
        "using linkedlist"
      ],
      "metadata": {
        "id": "kRILzufXelhG"
      }
    },
    {
      "cell_type": "code",
      "source": [
        "class Node:\n",
        "  def __init__(self,data):\n",
        "    self.data = data\n",
        "    self.next = None\n",
        "\n",
        "class stack:\n",
        "  def __init__(self,max_capacity):\n",
        "    self.top = None\n",
        "    self.max_capacity = max_capacity\n",
        "    self.current_size = 0\n",
        "\n",
        "  def is_empty(self):\n",
        "    return self.top == None\n",
        "\n",
        "  def is_full(self):\n",
        "    return self.current_size >= self.max_capacity\n",
        "\n",
        "\n",
        "  def push(self,data):\n",
        "    if self.is_full():\n",
        "      return (\"overflow\")\n",
        "    new_node = Node(data)\n",
        "    new_node.next = self.top\n",
        "    self.top = new_node\n",
        "    self.current_size += 1\n",
        "\n",
        "  def dele(self):\n",
        "    if self.is_empty():\n",
        "      return (\"empty\")\n",
        "    popped = self.top.data\n",
        "    self.top = self.top.next\n",
        "    self.current_size -= 1\n",
        "    return popped\n",
        "\n",
        "  def get_size(self):\n",
        "    return self.current_size\n",
        "\n",
        "  def peek(self):\n",
        "    if self.is_empty():\n",
        "      return \"stack is empty\"\n",
        "    return self.top.data\n",
        "\n",
        "  def display(self):\n",
        "    if self.is_empty():\n",
        "      print(\"stack is empty\")\n",
        "      return\n",
        "    current = self.top\n",
        "    while current:\n",
        "      print(current.data)\n",
        "      current = current.next"
      ],
      "metadata": {
        "id": "xLD7qbjvYeQI"
      },
      "execution_count": null,
      "outputs": []
    },
    {
      "cell_type": "code",
      "source": [
        "s1 = stack(3)\n",
        "s1.push(10)\n",
        "s1.push(20)\n",
        "s1.push(30)\n",
        "s1.display()"
      ],
      "metadata": {
        "colab": {
          "base_uri": "https://localhost:8080/"
        },
        "id": "PUQ4TUMtgakX",
        "outputId": "afe3e606-20f5-4415-b822-45915365efef"
      },
      "execution_count": null,
      "outputs": [
        {
          "output_type": "stream",
          "name": "stdout",
          "text": [
            "30\n",
            "20\n",
            "10\n"
          ]
        }
      ]
    },
    {
      "cell_type": "code",
      "source": [],
      "metadata": {
        "id": "t7vZ-N3DiJjY"
      },
      "execution_count": null,
      "outputs": []
    }
  ]
}